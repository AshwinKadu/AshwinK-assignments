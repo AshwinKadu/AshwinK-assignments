{
 "cells": [
  {
   "cell_type": "markdown",
   "id": "f5fec3b0-5b37-432e-9f5e-82cfd727d304",
   "metadata": {},
   "source": [
    "1. In the below elements which of them are values or an expression? eg: - values can be integer or string and expressions will be mathematical operators.\n",
    "*\n",
    "Ans: -* is Arithmetic Operator used to perform multiplication \n",
    "\n",
    "\n",
    "'hello'\n",
    "Ans: - ‘hello’ is string with single quotes \n",
    "\n",
    "-87.8\n",
    "Ans:  -87.8 is an integer \n",
    "\n",
    "- \n",
    "Ans: - is Arithmetic Operator used to perform Subtraction \n",
    "\n",
    "/ \n",
    "Ans: / is Arithmetic Operator used to perform Division\n",
    "\n",
    "+\n",
    "Ans: + is Arithmetic Operator used to perform Addition\n",
    "\n",
    "6 \n",
    "Ans: 6 is an integer \n"
   ]
  },
  {
   "cell_type": "markdown",
   "id": "bd27e557-7581-4d2f-bfcd-31c6f3c9c672",
   "metadata": {},
   "source": [
    "2. What is the difference between string and variable?\n",
    "Ans: A string is a set of special characters inside the single or double quotes, whereas the variable is special name given to particular object\n"
   ]
  },
  {
   "cell_type": "markdown",
   "id": "b67b61fd-7b62-4572-9c0d-b10fe1c4f2da",
   "metadata": {},
   "source": [
    "3. Describe three different data types.\n",
    "Ans:\tint, float: - these are used for numeric data types\n",
    "list, tuple: - these are used to make list in an order, list is mutable, uses square brackets and tuple are immutable, uses parenthesis \n",
    "dict: - dictionary is where data is added in form of a key and its value, it uses curly braces {}.\n"
   ]
  },
  {
   "cell_type": "markdown",
   "id": "d76a7a1e-e60e-4bca-9a45-e37f664ab314",
   "metadata": {},
   "source": [
    "4. What is an expression made up of? What do all expressions do?\n",
    "Ans: expression is a combination of variables, integers and various operators data representation\n"
   ]
  },
  {
   "cell_type": "markdown",
   "id": "1e4058cc-09d7-44aa-8b07-ee3757b83e5b",
   "metadata": {},
   "source": [
    "5. This assignment statements, like spam = 10. What is the difference between an expression and a statement?\n",
    "Ans: - expression is the representation of data through the use of variable, integers, operators, etc. whereas statement is the instruction that the interpreter can read to perform the given action\n"
   ]
  },
  {
   "cell_type": "markdown",
   "id": "20556b22-e627-42f5-a260-a263f25e213a",
   "metadata": {},
   "source": [
    "6. After running the following code, what does the variable bacon contain?\n",
    "bacon = 22\n",
    "bacon + 1"
   ]
  },
  {
   "cell_type": "code",
   "execution_count": 2,
   "id": "9ecfaa3a-eb98-47f6-b9d2-732c28c8e15e",
   "metadata": {},
   "outputs": [
    {
     "data": {
      "text/plain": [
       "23"
      ]
     },
     "execution_count": 2,
     "metadata": {},
     "output_type": "execute_result"
    }
   ],
   "source": [
    "bacon = 22\n",
    "bacon + 1"
   ]
  },
  {
   "cell_type": "markdown",
   "id": "d3198957-a5c5-461e-8db1-ed072717985e",
   "metadata": {},
   "source": [
    "7. What should the values of the following two terms be?"
   ]
  },
  {
   "cell_type": "code",
   "execution_count": 3,
   "id": "4853ec6b-bbb7-4139-9d33-0cdd8a72d202",
   "metadata": {},
   "outputs": [
    {
     "data": {
      "text/plain": [
       "'spamspamspam'"
      ]
     },
     "execution_count": 3,
     "metadata": {},
     "output_type": "execute_result"
    }
   ],
   "source": [
    "'spam' + 'spamspam'\n",
    "'spam' * 3\n"
   ]
  },
  {
   "cell_type": "markdown",
   "id": "05efbf0d-088f-4390-9913-71564d4950b0",
   "metadata": {},
   "source": [
    "8. Why is eggs a valid variable name while 100 is invalid?\n",
    "Ans: - variable name should start with an alphabet or _ and 100 is integer so python reads it as integer and doesn’t allow to use it as variable name.\n"
   ]
  },
  {
   "cell_type": "markdown",
   "id": "72f9f3ce-349e-4404-817f-34acf700f7f3",
   "metadata": {},
   "source": [
    "9. What three functions can be used to get the integer, floating-point number, or string version of a value?\n",
    "Ans: - for integer- int, floating point number- float and for string- str ()\n"
   ]
  },
  {
   "cell_type": "markdown",
   "id": "e6afe69c-527d-4f82-99e6-a2079c7e36c4",
   "metadata": {},
   "source": [
    "10. Why does this expression cause an error? How can you fix it?\n",
    "'I have eaten ' + 99 + ' burritos.'\n",
    "Ans: - 99 in above code is an integer so all values cannot be linked together so all values need to be strings in order to code to be correct.\n"
   ]
  },
  {
   "cell_type": "code",
   "execution_count": 4,
   "id": "3db3ab5a-fcca-4902-9b27-4bdfeea5981a",
   "metadata": {},
   "outputs": [
    {
     "data": {
      "text/plain": [
       "'I have eaten 99 burritos.'"
      ]
     },
     "execution_count": 4,
     "metadata": {},
     "output_type": "execute_result"
    }
   ],
   "source": [
    "#correct code\n",
    "'I have eaten ' + '99' + ' burritos.'"
   ]
  }
 ],
 "metadata": {
  "kernelspec": {
   "display_name": "Python 3 (ipykernel)",
   "language": "python",
   "name": "python3"
  },
  "language_info": {
   "codemirror_mode": {
    "name": "ipython",
    "version": 3
   },
   "file_extension": ".py",
   "mimetype": "text/x-python",
   "name": "python",
   "nbconvert_exporter": "python",
   "pygments_lexer": "ipython3",
   "version": "3.10.6"
  }
 },
 "nbformat": 4,
 "nbformat_minor": 5
}
