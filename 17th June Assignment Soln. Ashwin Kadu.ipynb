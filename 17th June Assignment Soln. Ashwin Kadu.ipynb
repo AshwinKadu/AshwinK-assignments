{
 "cells": [
  {
   "cell_type": "markdown",
   "id": "67c57559",
   "metadata": {},
   "source": [
    "1. What is the role of try and exception block?"
   ]
  },
  {
   "cell_type": "markdown",
   "id": "4f2c1e08",
   "metadata": {},
   "source": [
    "ANS: The try-except block is used for error handling in Python. If the code inside the try block is error-free, it is executed. Otherwise, the error gets caught and control goes to the except block. The except block displays the error message. "
   ]
  },
  {
   "cell_type": "markdown",
   "id": "12a61cec",
   "metadata": {},
   "source": [
    "2. What is the syntax for a basic try-except block?"
   ]
  },
  {
   "cell_type": "code",
   "execution_count": 2,
   "id": "672a9b50",
   "metadata": {},
   "outputs": [
    {
     "name": "stdout",
     "output_type": "stream",
     "text": [
      "Please Enter a valid number\n"
     ]
    }
   ],
   "source": [
    "try:\n",
    "    # code that may cause exception\n",
    "    print(10/0)\n",
    "except ZeroDivisionError:\n",
    "    # code to run when exception occurs\n",
    "    print('Please Enter a valid number')"
   ]
  },
  {
   "cell_type": "markdown",
   "id": "132bb814",
   "metadata": {},
   "source": [
    "3. What happens if an exception occurs inside a try block and there is no matching\n",
    "except block?"
   ]
  },
  {
   "cell_type": "markdown",
   "id": "bdc50942",
   "metadata": {},
   "source": [
    "ANS: If an exception occurs inside a try block and there is no matching\n",
    "except block, the program will terminate and error message will be diplayed."
   ]
  },
  {
   "cell_type": "markdown",
   "id": "73c2c448",
   "metadata": {},
   "source": [
    "4. What is the difference between using a bare except block and specifying a specific\n",
    "exception type?"
   ]
  },
  {
   "cell_type": "markdown",
   "id": "b50d50c8",
   "metadata": {},
   "source": [
    "ANS:A bare except block catches all exceptions that are not caught by other except blocks. This can be dangerous because it can catch unexpected exceptions and hide programming errors."
   ]
  },
  {
   "cell_type": "markdown",
   "id": "b9ae91af",
   "metadata": {},
   "source": [
    "5. Can you have nested try-except blocks in Python? If yes, then give an example."
   ]
  },
  {
   "cell_type": "code",
   "execution_count": 5,
   "id": "3ddc1216",
   "metadata": {},
   "outputs": [
    {
     "name": "stdout",
     "output_type": "stream",
     "text": [
      "1.0\n"
     ]
    }
   ],
   "source": [
    "#Yes, you can have nested try-except blocks in Python. Here’s an example:\n",
    "try:\n",
    "    # outer try block\n",
    "    try:\n",
    "        # inner try block\n",
    "        print(1/0)\n",
    "    except ZeroDivisionError:\n",
    "        print(\"division by zero\")\n",
    "except:\n",
    "    print(\"outer exception\")\n"
   ]
  },
  {
   "cell_type": "markdown",
   "id": "ea0e6d59",
   "metadata": {},
   "source": [
    "6. Can we use multiple exception blocks, if yes then give an example."
   ]
  },
  {
   "cell_type": "code",
   "execution_count": 7,
   "id": "20ab4e0d",
   "metadata": {},
   "outputs": [
    {
     "name": "stdout",
     "output_type": "stream",
     "text": [
      "Enter a number: 6\n",
      "Enter another number: j\n",
      "Invalid input\n"
     ]
    }
   ],
   "source": [
    "#Yes, you can use multiple except blocks in Python. Here’s an example:\n",
    "\n",
    "try:\n",
    "    # try block\n",
    "    a = int(input(\"Enter a number: \"))\n",
    "    b = int(input(\"Enter another number: \"))\n",
    "    print(a/b)\n",
    "except ValueError:\n",
    "    # except block for ValueError\n",
    "    print(\"Invalid input\")\n",
    "except ZeroDivisionError:\n",
    "    # except block for ZeroDivisionError\n",
    "    print(\"division by zero\")"
   ]
  },
  {
   "cell_type": "raw",
   "id": "9e916395",
   "metadata": {},
   "source": [
    "7. Write the reason due to which following errors are raised:\n",
    "a. EOFError\n",
    "b. FloatingPointError\n",
    "c. IndexError\n",
    "d. MemoryError\n",
    "e. OverflowError\n",
    "f. TabError\n",
    "g. ValueError"
   ]
  },
  {
   "cell_type": "markdown",
   "id": "b479c27d",
   "metadata": {},
   "source": [
    "ANS:\n",
    "    a. EOFError: Raised when there is no input from either the input() function or a file. \n",
    "    b. FloatingPointError: Raised when a floating point operation fails. \n",
    "    c. IndexError: Raised when an index is out of range. \n",
    "    d. MemoryError: Raised when an operation runs out of memory.\n",
    "    e. OverflowError: Raised when the result of an arithmetic operation is too large to be represented. \n",
    "    f. TabError: Raised when indentation contains tabs and spaces. \n",
    "    g. ValueError: Raised when a function receives an argument of the correct type but an inappropriate value."
   ]
  },
  {
   "cell_type": "raw",
   "id": "073aa155",
   "metadata": {},
   "source": [
    "8. Write code for the following given scenario and add try-exception block to it.\n",
    "    a. Program to divide two numbers\n",
    "    b. Program to convert a string to an integer\n",
    "    c. Program to access an element in a list\n",
    "    d. Program to handle a specific exception\n",
    "    e. Program to handle any exception"
   ]
  },
  {
   "cell_type": "code",
   "execution_count": 16,
   "id": "1a64d602",
   "metadata": {},
   "outputs": [
    {
     "name": "stdout",
     "output_type": "stream",
     "text": [
      "Indvalid input\n"
     ]
    }
   ],
   "source": [
    "#a.Program to divide two numbers\n",
    "try:\n",
    "    a=5\n",
    "    b=0\n",
    "    print('result:', a/b)\n",
    "except ZeroDivisionError:\n",
    "    print('Indvalid input')"
   ]
  },
  {
   "cell_type": "code",
   "execution_count": 21,
   "id": "7a11364a",
   "metadata": {},
   "outputs": [
    {
     "name": "stdout",
     "output_type": "stream",
     "text": [
      "Enter a number: 6\n",
      "6\n",
      "Enter a number: h\n",
      "invalid input\n"
     ]
    }
   ],
   "source": [
    "#b. Program to convert a string to an integer\n",
    "try:\n",
    "    # try block\n",
    "    s = input(\"Enter a number: \")\n",
    "    n = int(s)\n",
    "    print(n)\n",
    "except ValueError:\n",
    "    # except block for ValueError\n",
    "    print(\"invalid input\")\n",
    "    \n",
    "# same code again for both results  \n",
    "try:\n",
    "    # try block\n",
    "    s = input(\"Enter a number: \")\n",
    "    n = int(s)\n",
    "    print(n)\n",
    "except ValueError:\n",
    "    # except block for ValueError\n",
    "    print(\"invalid input\")"
   ]
  },
  {
   "cell_type": "code",
   "execution_count": 27,
   "id": "e5136487",
   "metadata": {},
   "outputs": [
    {
     "name": "stdout",
     "output_type": "stream",
     "text": [
      "No such element found\n"
     ]
    }
   ],
   "source": [
    "#c. Program to access an element in a list\n",
    "try:\n",
    "    list1 = [1,2,3,4,5,6,7]\n",
    "    print(list1[9])\n",
    "except IndexError:\n",
    "    print('No such element found')"
   ]
  },
  {
   "cell_type": "code",
   "execution_count": 29,
   "id": "b72e5663",
   "metadata": {},
   "outputs": [
    {
     "name": "stdout",
     "output_type": "stream",
     "text": [
      "Enter a number: 6\n",
      "6\n",
      "Enter a number: a\n",
      "invalid input\n"
     ]
    }
   ],
   "source": [
    "#d. Program to handle a specific exception\n",
    "\n",
    "try:\n",
    "    # try block\n",
    "    s = input(\"Enter a number: \")\n",
    "    n = int(s)\n",
    "    print(n)\n",
    "except ValueError:\n",
    "    # except block for ValueError\n",
    "    print(\"invalid input\")\n",
    "    \n",
    "# same code again for both results \n",
    "try:\n",
    "    # try block\n",
    "    s = input(\"Enter a number: \")\n",
    "    n = int(s)\n",
    "    print(n)\n",
    "except ValueError:\n",
    "    # except block for ValueError\n",
    "    print(\"invalid input\")"
   ]
  },
  {
   "cell_type": "code",
   "execution_count": 31,
   "id": "af613787",
   "metadata": {},
   "outputs": [
    {
     "name": "stdout",
     "output_type": "stream",
     "text": [
      "Enter a number: 55\n",
      "55\n"
     ]
    }
   ],
   "source": [
    "#e. Program to handle any exception\n",
    "try:\n",
    "    # try block\n",
    "    s = input(\"Enter a number: \")\n",
    "    n = int(s)\n",
    "    print(n)\n",
    "\n",
    "    #not mentioning the exception means all the exceptions will be checked \n",
    "except:\n",
    "    # except block for any exception\n",
    "    print(\"unknown exception\")\n"
   ]
  },
  {
   "cell_type": "code",
   "execution_count": null,
   "id": "a180f124",
   "metadata": {},
   "outputs": [],
   "source": []
  }
 ],
 "metadata": {
  "kernelspec": {
   "display_name": "Python 3",
   "language": "python",
   "name": "python3"
  },
  "language_info": {
   "codemirror_mode": {
    "name": "ipython",
    "version": 3
   },
   "file_extension": ".py",
   "mimetype": "text/x-python",
   "name": "python",
   "nbconvert_exporter": "python",
   "pygments_lexer": "ipython3",
   "version": "3.11.3"
  }
 },
 "nbformat": 4,
 "nbformat_minor": 5
}
