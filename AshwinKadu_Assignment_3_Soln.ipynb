{
 "cells": [
  {
   "cell_type": "markdown",
   "id": "0bc9dfa8-1956-4d20-9ade-cb5644251c76",
   "metadata": {},
   "source": [
    "1. Why are functions advantageous to have in your programs?"
   ]
  },
  {
   "cell_type": "markdown",
   "id": "f09fdcc0-4d98-4b9b-8e28-614c9430df42",
   "metadata": {},
   "source": [
    "ANS: A major purpose of functions is to group code that gets executed multiple times. Without a function defined, you would have to copy and paste the code each time.\n"
   ]
  },
  {
   "cell_type": "markdown",
   "id": "6c781ac0-2ff0-4a53-a212-ff17022ef930",
   "metadata": {},
   "source": [
    "2. When does the code in a function run: when it&#39;s specified or when it&#39;s called?"
   ]
  },
  {
   "cell_type": "markdown",
   "id": "a9bfe79d-a523-40cb-986d-4ce602449031",
   "metadata": {},
   "source": [
    "ANS : When it is called."
   ]
  },
  {
   "cell_type": "markdown",
   "id": "6c6077b8-2816-44ce-bcf0-53353bc4ca81",
   "metadata": {},
   "source": [
    "3. What statement creates a function?"
   ]
  },
  {
   "cell_type": "markdown",
   "id": "4b41e4bf-9bc0-49b4-866f-0800df031eac",
   "metadata": {},
   "source": [
    "ANS: To create a new user defined function following statement is used"
   ]
  },
  {
   "cell_type": "code",
   "execution_count": 6,
   "id": "2382b992-9064-4dec-962b-4c565e71ef3d",
   "metadata": {},
   "outputs": [
    {
     "name": "stdout",
     "output_type": "stream",
     "text": [
      "New function is created succesfully\n"
     ]
    }
   ],
   "source": [
    "def New_Function():    #def is keyword used to create new function\n",
    "    print(\"New function is created succesfully\") #this statement tells what will be printed when the functon is called\n",
    "\n",
    "New_Function() #calling of function"
   ]
  },
  {
   "cell_type": "markdown",
   "id": "88231fa6-5b19-4771-b431-9379453b4dc4",
   "metadata": {},
   "source": [
    "4. What is the difference between a function and a function call?"
   ]
  },
  {
   "cell_type": "code",
   "execution_count": 29,
   "id": "809470c8-0dd3-47a6-b3f4-aab6b20745a2",
   "metadata": {},
   "outputs": [
    {
     "name": "stdout",
     "output_type": "stream",
     "text": [
      "14\n"
     ]
    }
   ],
   "source": [
    "#Defining a function\n",
    "def Add(num1, num2):\n",
    "    return num1 + num2\n",
    "\n",
    "# Calling the function\n",
    "result = Add(8, 6)\n",
    "print(result) \n"
   ]
  },
  {
   "cell_type": "markdown",
   "id": "0f65fb7b-c0fd-4c3f-a50c-da92aa85d2b1",
   "metadata": {},
   "source": [
    "A function is a block of code that does a particular operation and returns a result. It usually accepts inputs as parameters and returns a result. The parameters are not mandatory.\n",
    "\n",
    "            def Add(num1, num2):\n",
    "            return num1 + num2\n",
    "    \n",
    "A function call is the code used to pass control to a function.\n",
    "\n",
    "            result = Add(3, 5)\n",
    "            print(result) \n"
   ]
  },
  {
   "cell_type": "markdown",
   "id": "c7cf906e-fb40-49fc-a282-892201f66808",
   "metadata": {},
   "source": [
    "5. How many global scopes are there in a Python program? How many local scopes?"
   ]
  },
  {
   "cell_type": "markdown",
   "id": "4f79d742-31a8-46d7-86a6-b74dc8447d8c",
   "metadata": {},
   "source": [
    "ANS:In Python, there are four types of scopes, which are as follows: Global Scope; Local Scope; Enclosing Scope; Built-in Scope.\n",
    "\n",
    "There is one global scope, and a local scope is created whenever a function is called."
   ]
  },
  {
   "cell_type": "markdown",
   "id": "cef63b02-da43-4225-b99b-874dd831de7f",
   "metadata": {},
   "source": [
    "6. What happens to variables in a local scope when the function call returns?"
   ]
  },
  {
   "cell_type": "markdown",
   "id": "f6b08cfc-ab6a-4b6c-a7d8-43cb9d3dfef7",
   "metadata": {},
   "source": [
    "ANS:All the local variables of a function are stored inside the stack. This stack is removed when some value is returned by the function and all the function data is deleted."
   ]
  },
  {
   "cell_type": "markdown",
   "id": "58786666-afcb-4bd3-a7c6-90a1a780111f",
   "metadata": {},
   "source": [
    "7. What is the concept of a return value? Is it possible to have a return value in an expression?"
   ]
  },
  {
   "cell_type": "markdown",
   "id": "23d71036-acec-410f-8322-56dda3e5c0bf",
   "metadata": {},
   "source": [
    "ANS:The python return statement is used to return values from the function. We can use the return statement in a function only. It can’t be used outside of a Python function."
   ]
  },
  {
   "cell_type": "markdown",
   "id": "85080c7a-4236-4cc5-bde4-e1600eaa07f5",
   "metadata": {},
   "source": [
    "8. If a function does not have a return statement, what is the return value of a call to that function?"
   ]
  },
  {
   "cell_type": "markdown",
   "id": "bb4c7a6d-d0e9-4c79-b0a0-b5e5588e62ec",
   "metadata": {},
   "source": [
    "If there is no return statement for a function, its return value is None"
   ]
  },
  {
   "cell_type": "markdown",
   "id": "0199c348-3f6a-4684-a55f-2bdb64163e10",
   "metadata": {},
   "source": [
    "9. How do you make a function variable refer to the global variable?"
   ]
  },
  {
   "cell_type": "markdown",
   "id": "03437639-a803-4b23-a13a-a78f18245498",
   "metadata": {},
   "source": [
    "ANS:When you create a variable inside a function, that variable is local, and can only be used inside that function. To create a global variable inside a function, you can use the global keyword."
   ]
  },
  {
   "cell_type": "code",
   "execution_count": 6,
   "id": "21a580ae-1df3-4207-927d-6613bb500c6a",
   "metadata": {},
   "outputs": [
    {
     "name": "stdout",
     "output_type": "stream",
     "text": [
      "10\n"
     ]
    }
   ],
   "source": [
    "x = 20 # Global variable as it is outside the funtion\n",
    "def New_Function():\n",
    "    global x # using the global keyword\n",
    "    x = 10\n",
    "New_Function()\n",
    "print(x)"
   ]
  },
  {
   "cell_type": "markdown",
   "id": "3678c145-5845-463e-8568-4d3d2a7955cd",
   "metadata": {},
   "source": [
    "10. What is the data type of None?"
   ]
  },
  {
   "cell_type": "markdown",
   "id": "4ebbd693-0fda-44c1-bbfa-9b467c880e09",
   "metadata": {},
   "source": [
    "The data type of None is NoneType."
   ]
  },
  {
   "cell_type": "markdown",
   "id": "0513e226-35a5-4831-a091-c5be32b27078",
   "metadata": {},
   "source": [
    "11. What does the sentence import areallyourpetsnamederic do?"
   ]
  },
  {
   "cell_type": "markdown",
   "id": "6b4f94a7-1d9d-4e94-9c4d-ae61b4bf69bd",
   "metadata": {},
   "source": [
    "ANS: This import statement inports the module named areallyourpetsnamederic."
   ]
  },
  {
   "cell_type": "markdown",
   "id": "70f37a30-2001-4629-aedc-6075222223c1",
   "metadata": {},
   "source": [
    "12. If you had a bacon() feature in a spam module, what would you call it after importing spam?"
   ]
  },
  {
   "cell_type": "markdown",
   "id": "cc808f71-1ee5-42f1-a1b0-dd72aa5b7a98",
   "metadata": {},
   "source": [
    "ANS:import spam\n",
    "    spam.bacon() \n",
    "    This function can be called with spam.bacon()."
   ]
  },
  {
   "cell_type": "markdown",
   "id": "0b55108b-1ff0-47c5-b18c-9659c9fffac5",
   "metadata": {},
   "source": [
    "13. What can you do to save a programme from crashing if it encounters an error?"
   ]
  },
  {
   "cell_type": "markdown",
   "id": "a02de671-113b-4e4b-9f6e-f251364807e6",
   "metadata": {},
   "source": [
    "ANS: When programme encounters an error, the control is passed to the except block, skipping the code in between. \n",
    "Move code inside a try and except statement.\n",
    "Try running the program and it should throw an error message instead of crashing the program."
   ]
  },
  {
   "cell_type": "markdown",
   "id": "6583056c-e15f-4a6b-bfa7-89933f35dbe3",
   "metadata": {},
   "source": [
    "14. What is the purpose of the try clause? What is the purpose of the except clause?"
   ]
  },
  {
   "cell_type": "markdown",
   "id": "ffb1eaea-7262-49ec-b161-3179c0dce045",
   "metadata": {},
   "source": [
    "ANS:\n",
    "    The code that could potentially cause an error goes in the try clause. \n",
    "    The code that executes if an error happens goes in the except clause."
   ]
  }
 ],
 "metadata": {
  "kernelspec": {
   "display_name": "Python 3 (ipykernel)",
   "language": "python",
   "name": "python3"
  },
  "language_info": {
   "codemirror_mode": {
    "name": "ipython",
    "version": 3
   },
   "file_extension": ".py",
   "mimetype": "text/x-python",
   "name": "python",
   "nbconvert_exporter": "python",
   "pygments_lexer": "ipython3",
   "version": "3.10.6"
  }
 },
 "nbformat": 4,
 "nbformat_minor": 5
}
