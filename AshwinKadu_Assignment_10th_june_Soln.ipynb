{
 "cells": [
  {
   "cell_type": "markdown",
   "id": "7e3e0224-8bd9-40cc-a2e0-a866075de518",
   "metadata": {},
   "source": [
    "1. In Python, what is the difference between a built-in function and a user-defined function? Provide an\n",
    "example of each."
   ]
  },
  {
   "cell_type": "markdown",
   "id": "9e0f92d6-e34c-49c8-87b9-caec874e4cc2",
   "metadata": {},
   "source": [
    "ANS: If you define the function yourself, it is a user-defined function. On the other hand, the Python function that come along with Python are known as in-built functions."
   ]
  },
  {
   "cell_type": "code",
   "execution_count": 31,
   "id": "06a1a943-cc3a-47ee-82af-f152f345a3c5",
   "metadata": {},
   "outputs": [
    {
     "name": "stdout",
     "output_type": "stream",
     "text": [
      "A fuction is created\n"
     ]
    }
   ],
   "source": [
    "# user defined functions are made using def keywrod\n",
    "def Function_1():\n",
    "    print(\"A fuction is created\")\n",
    "Function_1()"
   ]
  },
  {
   "cell_type": "markdown",
   "id": "c762f26f-d0d7-4a79-9efb-21967cc9cf03",
   "metadata": {},
   "source": [
    "Built in function\n",
    "input(), str(), float(), int(), etc. are examples of built in functions"
   ]
  },
  {
   "cell_type": "markdown",
   "id": "1884d039-90b1-4bd9-8941-fea98876dbcf",
   "metadata": {},
   "source": [
    "2. How can you pass arguments to a function in Python? Explain the difference between positional\n",
    "arguments and keyword arguments."
   ]
  },
  {
   "cell_type": "code",
   "execution_count": null,
   "id": "6c2085fe-1220-4835-a087-80c0df0cf12a",
   "metadata": {},
   "outputs": [],
   "source": [
    "ANS:\n",
    "    Arguments are specified after the function name, inside the parentheses. You can add as many arguments as you want, just separate them with a comma.\n",
    "   \n",
    "    Positional arguments are the arguments that need to be passed to the function call in a proper order."
   ]
  },
  {
   "cell_type": "code",
   "execution_count": 1,
   "id": "ea5a22ae-816b-48c9-ae07-059e161694d4",
   "metadata": {},
   "outputs": [
    {
     "name": "stdout",
     "output_type": "stream",
     "text": [
      "11\n"
     ]
    }
   ],
   "source": [
    "def add_numbers(n1, n2):\n",
    "    result = n1 + n2\n",
    "    return result\n",
    "\n",
    "result = add_numbers(5, 6)\n",
    "print(result)\n",
    "\n",
    "\"\"\"\n",
    "so here we have two arguements with funtion add_numbers and they are\n",
    "n1 and n2. These arguements we passed are called positionl arguements\n",
    "\"\"\""
   ]
  },
  {
   "cell_type": "markdown",
   "id": "d667fcca-b385-410f-b0e1-97ff3bbb3e19",
   "metadata": {},
   "source": [
    "Keyword arguments are basically named arguments and their position in funtion doesn't matter.\n",
    "A variable is assigned a value using '='.\n",
    "Genral form of Keyword argument is \n",
    "function(keyword=value)"
   ]
  },
  {
   "cell_type": "code",
   "execution_count": null,
   "id": "ccbc5cf9-a57c-467e-a61d-694ba9099e18",
   "metadata": {},
   "outputs": [],
   "source": []
  },
  {
   "cell_type": "markdown",
   "id": "2c212ab0-93b9-46d6-8829-b2cbeeec1c50",
   "metadata": {},
   "source": [
    "3. What is the purpose of the return statement in a function? Can a function have multiple return\n",
    "statements? Explain with an example."
   ]
  },
  {
   "cell_type": "code",
   "execution_count": null,
   "id": "60b58bc1-54f1-4ba3-8c95-d8e2a737813f",
   "metadata": {},
   "outputs": [],
   "source": [
    "ANS: A return statement is used to end the execution of the function call and “returns” the result (value of the expression following the return keyword) to the caller\n",
    "A function can have more than one return statement.\n",
    "Example:"
   ]
  },
  {
   "cell_type": "code",
   "execution_count": 9,
   "id": "fa1f3530-bf96-4bc9-82f1-060dd0222f9e",
   "metadata": {},
   "outputs": [
    {
     "name": "stdout",
     "output_type": "stream",
     "text": [
      "odd\n"
     ]
    }
   ],
   "source": [
    "def type_of_int(i):\n",
    "    if i % 2 == 0:\n",
    "        return 'even'\n",
    "    else:\n",
    "        return 'odd'\n",
    "\n",
    "result = type_of_int(7)\n",
    "\n",
    "print(result)"
   ]
  },
  {
   "cell_type": "markdown",
   "id": "0003fd0e-d338-413d-ac70-f950cfc1fe87",
   "metadata": {},
   "source": [
    "4. What are lambda functions in Python? How are they different from regular functions? Provide an\n",
    "example where a lambda function can be useful."
   ]
  },
  {
   "cell_type": "markdown",
   "id": "b5918895-dd89-4644-aeac-ecd61b5b0a74",
   "metadata": {},
   "source": [
    "ANS: Lambda functions are similar to user-defined functions but without a name.\n",
    "Lambda functions are efficient whenever you want to create a function that will only contain simple expressions – that is, expressions that are usually a single line of a statement."
   ]
  },
  {
   "cell_type": "code",
   "execution_count": 13,
   "id": "872e7bfe-5cf0-4b23-a2a4-80a294525740",
   "metadata": {},
   "outputs": [
    {
     "name": "stdout",
     "output_type": "stream",
     "text": [
      "18\n"
     ]
    }
   ],
   "source": [
    "#Simpe user defined funtion\n",
    "def function_1(x):\n",
    "    return x * 3\n",
    "print(function_1(6))\n",
    "    "
   ]
  },
  {
   "cell_type": "code",
   "execution_count": 11,
   "id": "fbe99fc0-9977-4dbe-8187-fc8076e9c2df",
   "metadata": {},
   "outputs": [
    {
     "name": "stdout",
     "output_type": "stream",
     "text": [
      "18\n"
     ]
    }
   ],
   "source": [
    "#Lambda function\n",
    "lambda_1 = lambda x : x * 3\n",
    "print(lambda_1(6))\n"
   ]
  },
  {
   "cell_type": "markdown",
   "id": "b62f61f7-dffd-4348-af29-74d029caaed1",
   "metadata": {},
   "source": [
    "5. How does the concept of \"scope\" apply to functions in Python? Explain the difference between local\n",
    "scope and global scope."
   ]
  },
  {
   "cell_type": "markdown",
   "id": "cdbca6cd-9d3d-48b5-a872-9d36d3295d04",
   "metadata": {},
   "source": [
    "ANS:GLOBAL SCOPE\n",
    "   A variable created in the main body of the Python code is a global variable and belongs to the global scope.\n",
    "\n",
    "Global variables are available from within any scope, global and local."
   ]
  },
  {
   "cell_type": "code",
   "execution_count": 3,
   "id": "39a03012-071a-4b60-aa75-e3084e4011ef",
   "metadata": {},
   "outputs": [
    {
     "name": "stdout",
     "output_type": "stream",
     "text": [
      "300\n",
      "300\n"
     ]
    }
   ],
   "source": [
    "# EXAMPLE OF GLOBAL SCOPE\n",
    "x = 300\n",
    "def myfunc():\n",
    "    print(x)\n",
    "myfunc()\n",
    "print(x)\n"
   ]
  },
  {
   "cell_type": "markdown",
   "id": "a45640b8-1e89-403b-8928-cbdd43377f84",
   "metadata": {},
   "source": [
    "LOCAL SCOPE\n",
    "    A variable created inside a function belongs to the local scope of that function, and can only be used inside that function."
   ]
  },
  {
   "cell_type": "code",
   "execution_count": 5,
   "id": "33641f45-899f-4ec9-b421-129c8b774f4c",
   "metadata": {},
   "outputs": [
    {
     "name": "stdout",
     "output_type": "stream",
     "text": [
      "300\n"
     ]
    }
   ],
   "source": [
    "#EXAMPLE OF LOCAL SCOPE\n",
    "def myfunc():\n",
    "    x = 300\n",
    "print(x)\n",
    "\n",
    "myfunc()"
   ]
  },
  {
   "cell_type": "markdown",
   "id": "2230f6bc-2b45-4c8d-8d97-4510df28f31b",
   "metadata": {},
   "source": [
    "6. How can you use the \"return\" statement in a Python function to return multiple values?"
   ]
  },
  {
   "cell_type": "code",
   "execution_count": 9,
   "id": "1e024f5c-2c66-42c2-aad0-24e4b48a00c4",
   "metadata": {},
   "outputs": [
    {
     "name": "stdout",
     "output_type": "stream",
     "text": [
      "(15, 54, 0.6666666666666666)\n"
     ]
    }
   ],
   "source": [
    "# Single return statement retuns multile values\n",
    "# It can be used in following way to return multiple values in single statement \n",
    "def num_series(a,b):\n",
    "    return a+b, a*b, a/b\n",
    "result = num_series(6,9)\n",
    "print(result)"
   ]
  },
  {
   "cell_type": "markdown",
   "id": "763180cf-5968-4b58-a813-13ca9620b8ac",
   "metadata": {},
   "source": [
    "7. What is the difference between the \"pass by value\" and \"pass by reference\" concepts when it\n",
    "comes to function arguments in Python?"
   ]
  },
  {
   "cell_type": "markdown",
   "id": "ab80b1dc-8652-4c8d-aaf9-df55e71c7734",
   "metadata": {},
   "source": [
    "ANS: When you pass function arguments by reference, those arguments are only references to existing values. In contrast, when you pass arguments by value, those arguments become independent copies of the original values."
   ]
  },
  {
   "cell_type": "markdown",
   "id": "01442605-c59e-4000-863f-6d3af47ca669",
   "metadata": {},
   "source": [
    "8. Create a function that can intake integer or decimal value and do following operations:\n",
    "\n",
    "a. Logarithmic function (log x)\n",
    "\n",
    "b. Exponential function (exp(x))\n",
    "\n",
    "c. Power function with base 2 (2x)\n",
    "\n",
    "d. Square root"
   ]
  },
  {
   "cell_type": "code",
   "execution_count": 29,
   "id": "0188a8ea-1799-4f03-9fc8-cf587891827d",
   "metadata": {},
   "outputs": [
    {
     "name": "stdin",
     "output_type": "stream",
     "text": [
      "Pleas enter a value 9\n"
     ]
    },
    {
     "name": "stdout",
     "output_type": "stream",
     "text": [
      "(2.1972245773362196, 8103.083927575384, 512.0, 3.0)\n"
     ]
    }
   ],
   "source": [
    "import math\n",
    "def fun1(x):\n",
    "    x = float(input(\"Pleas enter a value\"))\n",
    "    return math.log(x), math.exp(x),math.pow(2,x),math.sqrt(x), \n",
    "print(fun1(x))\n"
   ]
  },
  {
   "cell_type": "markdown",
   "id": "a02be178-bfd4-452e-aa8d-a8f92629fd92",
   "metadata": {},
   "source": [
    "9. Create a function that takes a full name as an argument and returns first name and last name."
   ]
  },
  {
   "cell_type": "code",
   "execution_count": 30,
   "id": "0474e95b-a341-4671-a902-9f3b445e782e",
   "metadata": {},
   "outputs": [
    {
     "name": "stdout",
     "output_type": "stream",
     "text": [
      "First name: John\n",
      "Last name: Doe\n"
     ]
    }
   ],
   "source": [
    "def Person(full_name):\n",
    "    first_name, last_name = full_name.split()\n",
    "    return first_name, last_name\n",
    "\n",
    "full_name = \"John Doe\"\n",
    "first_name, last_name = Person(full_name)\n",
    "print(f\"First name: {first_name}\")\n",
    "print(f\"Last name: {last_name}\")\n"
   ]
  },
  {
   "cell_type": "code",
   "execution_count": null,
   "id": "f7673093-581b-4bf9-99a3-33c218b846dc",
   "metadata": {},
   "outputs": [],
   "source": []
  }
 ],
 "metadata": {
  "kernelspec": {
   "display_name": "Python 3 (ipykernel)",
   "language": "python",
   "name": "python3"
  },
  "language_info": {
   "codemirror_mode": {
    "name": "ipython",
    "version": 3
   },
   "file_extension": ".py",
   "mimetype": "text/x-python",
   "name": "python",
   "nbconvert_exporter": "python",
   "pygments_lexer": "ipython3",
   "version": "3.10.6"
  }
 },
 "nbformat": 4,
 "nbformat_minor": 5
}
