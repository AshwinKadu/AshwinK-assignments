{
 "cells": [
  {
   "cell_type": "markdown",
   "id": "f56a30c7-b4cf-4f15-93ec-2245617b7da3",
   "metadata": {},
   "source": [
    "1. What does an empty dictionary&#39;s code look like?"
   ]
  },
  {
   "cell_type": "markdown",
   "id": "70363bbf-4072-4a0e-af36-de260bf60e9f",
   "metadata": {},
   "source": [
    "ANS: An empty dictionary is often represented by two empty curly brackets\n"
   ]
  },
  {
   "cell_type": "markdown",
   "id": "d2cf7465-4ba7-4e82-a0ce-cf6856e1f74d",
   "metadata": {},
   "source": [
    "d = {} \n",
    "d = dict()"
   ]
  },
  {
   "cell_type": "markdown",
   "id": "a5361979-1a00-4c76-b6c6-c6542a2fac34",
   "metadata": {},
   "source": [
    "2. What is the value of a dictionary value with the key &#39;foo&#39; and the value 42?"
   ]
  },
  {
   "cell_type": "markdown",
   "id": "ae474abc-dded-4296-853c-ae7eb0f64f7b",
   "metadata": {},
   "source": [
    "ANS:\n",
    "d = {\"foo\" : \"42\"} "
   ]
  },
  {
   "cell_type": "markdown",
   "id": "6ad3de64-d1fb-4926-9fea-0e2430297dd9",
   "metadata": {},
   "source": [
    "3. What is the most significant distinction between a dictionary and a list?"
   ]
  },
  {
   "cell_type": "markdown",
   "id": "ac8d3a90-f2df-4b55-a232-26313fe7f835",
   "metadata": {},
   "source": [
    "ANS: \n",
    "    1. Dictionaries use the {} 'curly' bracket and list use [] brackets\n",
    "    2. Items in dictionaries are unorderd and items in list are ordered\n",
    "    3. Dictionaries require a key and value pair and a list does'nt"
   ]
  },
  {
   "cell_type": "markdown",
   "id": "3c244173-510c-4d22-98f2-16bce1651df5",
   "metadata": {},
   "source": [
    "4. What happens if you try to access spam[&#39;foo&#39;] if spam is {&#39;bar&#39;: 100}?"
   ]
  },
  {
   "cell_type": "markdown",
   "id": "4c5c440b-6d32-4969-ab1e-862f6f8c7d78",
   "metadata": {},
   "source": [
    "ANS: Python will give back a KeyError as there is an attempt made to access an item in a dictionary that does not exist.\n"
   ]
  },
  {
   "cell_type": "markdown",
   "id": "605a9029-335f-4365-b348-c9749d3b7ff9",
   "metadata": {},
   "source": [
    "5. If a dictionary is stored in spam, what is the difference between the expressions &#39;cat&#39; in spam and\n",
    "&#39;cat&#39; in spam.keys()?"
   ]
  },
  {
   "cell_type": "code",
   "execution_count": 6,
   "id": "20142c51-cf5b-4ec0-9319-f1e9221d6eaf",
   "metadata": {},
   "outputs": [
    {
     "name": "stdout",
     "output_type": "stream",
     "text": [
      "True\n",
      "True\n"
     ]
    }
   ],
   "source": [
    "spam = {'cat': 1}\n",
    "print('cat' in spam)\n",
    "print('cat' in spam.keys())"
   ]
  },
  {
   "cell_type": "markdown",
   "id": "0da5feb7-3dd0-4002-be1f-79a721e188b1",
   "metadata": {},
   "source": [
    "ANS: There is no difference. The operator checks whether a value exits as a key in the dictionary or not."
   ]
  },
  {
   "cell_type": "markdown",
   "id": "0a8a33b3-964c-4e99-a746-4d344a7b256f",
   "metadata": {},
   "source": [
    "6. If a dictionary is stored in spam, what is the difference between the expressions &#39;cat&#39; in spam and\n",
    "&#39;cat&#39; in spam.values()?"
   ]
  },
  {
   "cell_type": "code",
   "execution_count": 7,
   "id": "0a10404b-c65f-4e7f-94fa-fe20686013ab",
   "metadata": {},
   "outputs": [
    {
     "name": "stdout",
     "output_type": "stream",
     "text": [
      "True\n",
      "False\n"
     ]
    }
   ],
   "source": [
    "spam = {'cat': 1}\n",
    "print('cat' in spam)\n",
    "print('cat' in spam.values())"
   ]
  },
  {
   "cell_type": "markdown",
   "id": "fe5329eb-df20-4a01-970d-c51484729aaa",
   "metadata": {},
   "source": [
    "ANS: 'cat' in spam checks whether there is a 'cat' key in the dictionary, while 'cat' in spam.values() checks whether there is a value 'cat' for one of the keys in spam."
   ]
  },
  {
   "cell_type": "markdown",
   "id": "102e245e-b7ac-42b4-bd73-675dd3ef1a60",
   "metadata": {},
   "source": [
    "7. What is a shortcut for the following code?\n",
    "\n",
    "if &#39;color&#39; not in spam:\n",
    "\n",
    "spam[&#39;color&#39;] = &#39;black&#39;"
   ]
  },
  {
   "cell_type": "code",
   "execution_count": 11,
   "id": "65494fb1-0062-4da7-b2d3-c59b2c69b7dd",
   "metadata": {},
   "outputs": [],
   "source": [
    "spam.setdefault('color','black')"
   ]
  },
  {
   "cell_type": "markdown",
   "id": "7331d734-a34f-4d02-ac63-8fae6ac0366d",
   "metadata": {},
   "source": [
    "8. How do you &quot;pretty print&quot; dictionary values using which module and function?"
   ]
  },
  {
   "cell_type": "markdown",
   "id": "48d11c07-4645-415a-93c3-a166bde1c188",
   "metadata": {},
   "source": [
    "ANS: The name of the module is pprint and the while pretty printing you need to call pprint()function\n",
    "The pprint modele hase class pprint that accepts the parameters to specipfy how you want to print. These parameters are indent, width, depth and stream."
   ]
  },
  {
   "cell_type": "code",
   "execution_count": 15,
   "id": "3e06a5ba-6ab5-4a84-9975-a888e0c08cc5",
   "metadata": {},
   "outputs": [
    {
     "name": "stdout",
     "output_type": "stream",
     "text": [
      "[(1, {'a': 'A', 'b': 'B', 'c': 'C'}), (2, {'a': 'A', 'b': 'B', 'c': 'C'}), (3, {'a': 'A', 'b': 'B', 'c': 'C'})]\n"
     ]
    }
   ],
   "source": [
    "from pprint import pprint\n",
    "data = [(1,{\"a\":\"A\", \"b\":\"B\", \"c\":\"C\"}),(2,{\"a\":\"A\", \"b\":\"B\", \"c\":\"C\"}),(3,{\"a\":\"A\", \"b\":\"B\", \"c\":\"C\"})]\n",
    "\n",
    "print(data)"
   ]
  },
  {
   "cell_type": "code",
   "execution_count": 14,
   "id": "ede7d869-ef9d-41c3-b59f-8e6730cab511",
   "metadata": {},
   "outputs": [
    {
     "name": "stdout",
     "output_type": "stream",
     "text": [
      "[(1, {'a': 'A', 'b': 'B', 'c': 'C'}),\n",
      " (2, {'a': 'A', 'b': 'B', 'c': 'C'}),\n",
      " (3, {'a': 'A', 'b': 'B', 'c': 'C'})]\n"
     ]
    }
   ],
   "source": [
    "pprint(data)"
   ]
  }
 ],
 "metadata": {
  "kernelspec": {
   "display_name": "Python 3 (ipykernel)",
   "language": "python",
   "name": "python3"
  },
  "language_info": {
   "codemirror_mode": {
    "name": "ipython",
    "version": 3
   },
   "file_extension": ".py",
   "mimetype": "text/x-python",
   "name": "python",
   "nbconvert_exporter": "python",
   "pygments_lexer": "ipython3",
   "version": "3.10.6"
  }
 },
 "nbformat": 4,
 "nbformat_minor": 5
}
