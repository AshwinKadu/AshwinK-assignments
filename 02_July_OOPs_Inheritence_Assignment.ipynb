{
 "cells": [
  {
   "cell_type": "code",
   "execution_count": null,
   "id": "380b79db-f87d-4442-b1c6-803bd6863720",
   "metadata": {},
   "outputs": [],
   "source": [
    "# apologies for submitting assignments too late "
   ]
  },
  {
   "cell_type": "markdown",
   "id": "4354d1bc-6322-4bf6-b7c9-db4784e3efc3",
   "metadata": {},
   "source": [
    "1. Explain what inheritance is in object-oriented programming and why it is used.\n"
   ]
  },
  {
   "cell_type": "markdown",
   "id": "913ad41f-20f6-4ad1-86a5-691319e47bb5",
   "metadata": {},
   "source": [
    "ANS:- inheritence is the concept in python that allows user to create a SUPER class(parent class) and the propertise and methods of SUPER class can be inherited by the SUB class(child class)."
   ]
  },
  {
   "cell_type": "markdown",
   "id": "0b80c9f6-07be-4785-ae5b-d683e655244f",
   "metadata": {},
   "source": [
    "2. Discuss the concept of single inheritance and multiple inheritance, highlighting their\n",
    "differences and advantages.\n"
   ]
  },
  {
   "cell_type": "markdown",
   "id": "e46c5917-93b3-4bba-a012-64f956b3fcea",
   "metadata": {},
   "source": [
    "ANS:-\n",
    "SINGLE INHERITENCE :-1. Single inheritence involves a child or sub class that inherits properties and methods from only a single parent or super class.\n",
    "                      2.  The level of complexily is low.\n",
    "                      3.  That is why the code is much simpler and easy to write and understand.\n",
    "ADVANTAGES:-Easy to write, easy to undrstand, less complex.\n",
    "\n",
    "\n",
    "MULTIPLE INHERITENCE:- 1.Multiple inhertence involves more than one parent or super classes and sub or child classes can inherit propertise and methods from all superclasses.\n",
    "                        2.As there are multile super classes, the complexity of code increases.\n",
    "                        3. These codes are difficult to write and understand.\n",
    "        \n",
    "ADVANTAGES:- one subclass can use methods from multiple classes, if manged properly it can be very powerful.         "
   ]
  },
  {
   "cell_type": "markdown",
   "id": "f92d32a2-58ab-4d2f-8661-2d5c8b7f3566",
   "metadata": {},
   "source": [
    "3. Explain the terms \"base class\" and \"derived class\" in the context of inheritance.\n"
   ]
  },
  {
   "cell_type": "markdown",
   "id": "7a6b2235-15f4-4df9-8437-432881107d15",
   "metadata": {},
   "source": [
    "ANS:-1.The derived class is also known as the subclass or child class, while the base class is also known as the superclass or parent class \n",
    "2.Inheritance allows a subclass to reuse the code of the superclass, which reduces the amount of code that needs to be written and makes the code easier to maintain."
   ]
  },
  {
   "cell_type": "markdown",
   "id": "d5430d48-6076-4051-bce2-4d9fbb5f4be1",
   "metadata": {},
   "source": [
    "4. What is the significance of the \"protected\" access modifier in inheritance? How does\n",
    "it differ from \"private\" and \"public\" modifiers?\n"
   ]
  },
  {
   "cell_type": "markdown",
   "id": "c8bfcc3d-829f-4734-a2bf-dc5e1a8cb76d",
   "metadata": {},
   "source": [
    "ANS:- \n",
    "1.Protected members of a class can be accessed from within the class and from any subclass that inherits from it.\n",
    "2.Protected members are declared using a SINGLE UNDERSCORE prefix before their names \n",
    "3.protected access modifier differ from \"private\" and \"public\" modifiers by the underscore used as the prefix\n",
    "    protected access modifier have SINGLE underscore\n",
    "    private access modifier have DOUBLE underscore\n",
    "    public access modifier have no undrscore\n",
    "4.Also  Private members of a class can only be accessed from within the class only."
   ]
  },
  {
   "cell_type": "markdown",
   "id": "f1267220-e31a-48c0-8925-e03a88a33767",
   "metadata": {},
   "source": [
    "5. What is the purpose of the \"super\" keyword in inheritance? Provide an example.\n"
   ]
  },
  {
   "cell_type": "code",
   "execution_count": null,
   "id": "e02c0e16-0182-4300-9224-d93fffb9be51",
   "metadata": {},
   "outputs": [],
   "source": [
    "'''\n",
    "super() function allows you to call methods defined in the superclass from the subclass\n",
    " In the super class or parent class the parameters that we have defined,\n",
    " can be easily called by using super() function in subclass.\n",
    " This allows us to add parameters to subclass.\n",
    "'''\n",
    "class Parent:\n",
    "    def __init__(self, name):\n",
    "        self.name = name\n",
    "\n",
    "class Child(Parent):\n",
    "    def __init__(self, name, age):\n",
    "        super().__init__(name)\n",
    "        self.age = age"
   ]
  },
  {
   "cell_type": "markdown",
   "id": "925e6ffa-b0ad-4a41-b9d7-4ca909732a3b",
   "metadata": {},
   "source": [
    "6. Create a base class called \"Vehicle\" with attributes like \"make\", \"model\", and \"year\".\n",
    "Then, create a derived class called \"Car\" that inherits from \"Vehicle\" and adds an\n",
    "attribute called \"fuel_type\". Implement appropriate methods in both classes.\n"
   ]
  },
  {
   "cell_type": "code",
   "execution_count": 8,
   "id": "ad7d401d-16a4-4ef3-b43e-242d9c80d476",
   "metadata": {},
   "outputs": [],
   "source": [
    "class Vehicle():\n",
    "    def __init__(self, make, model, year):\n",
    "        self.make = make\n",
    "        self.model = model\n",
    "        self.year = year\n",
    "\n",
    "class Car(Vehicle):\n",
    "    def __init__(self, make, model, year,fuel_type):\n",
    "        super().__init__(make, model, year)\n",
    "        self.fuel_type = fuel_type\n",
    "\n",
    "    def get_make(self):\n",
    "        return self.make\n",
    "\n",
    "    def get_model(self):\n",
    "        return self.model\n",
    "\n",
    "    def get_year(self):\n",
    "        return self.year\n",
    "\n",
    "    def get_fuel_type(self):\n",
    "        return self.fuel_type"
   ]
  },
  {
   "cell_type": "code",
   "execution_count": 13,
   "id": "c7e6abbf-60f0-4c28-aa65-9d23656eed11",
   "metadata": {},
   "outputs": [
    {
     "name": "stdout",
     "output_type": "stream",
     "text": [
      "Tata\n",
      "Harrier\n",
      "2022\n",
      "Petrol\n"
     ]
    }
   ],
   "source": [
    "Car1 = Car('Tata','Harrier','2022','Petrol')\n",
    "print(Car1.make)\n",
    "print(Car1.model)\n",
    "print(Car1.year)\n",
    "print(Car1.fuel_type)"
   ]
  },
  {
   "cell_type": "markdown",
   "id": "e432c2bf-7066-4b49-83a3-76d327b11a32",
   "metadata": {},
   "source": [
    "7. Create a base class called \"Employee\" with attributes like \"name\" and \"salary.\"\n",
    "Derive two classes, \"Manager\" and \"Developer,\" from \"Employee.\" Add an additional\n",
    "attribute called \"department\" for the \"Manager\" class and \"programming_language\"\n",
    "for the \"Developer\" class."
   ]
  },
  {
   "cell_type": "code",
   "execution_count": 18,
   "id": "a282c68d-2339-4e48-a172-f113eadc4b73",
   "metadata": {},
   "outputs": [],
   "source": [
    "class Employee():\n",
    "    def __init__(self, name, salary):\n",
    "        self.name = name\n",
    "        self.salary = salary\n",
    "        \n",
    "class Manager(Employee):\n",
    "    def __init__(self,name, salary, department):\n",
    "        super().__init__(name, salary)\n",
    "        self.department = department\n",
    "        \n",
    "class Developer(Employee):\n",
    "    def __init__(self,name, salary, programming_language):\n",
    "        super().__init__(name, salary)\n",
    "        self.programming_language = programming_language\n",
    "        \n",
    "    def get_name(self):\n",
    "        return self.name\n",
    "        \n",
    "    def get_salary(self):\n",
    "        return self.salary\n",
    "    \n",
    "    def get_department(self):\n",
    "        return self.department\n",
    "    \n",
    "    def get_programming_language(self):\n",
    "        return self.programming_language"
   ]
  },
  {
   "cell_type": "code",
   "execution_count": 21,
   "id": "a9336b43-04a2-4414-88a2-344d40123455",
   "metadata": {},
   "outputs": [
    {
     "name": "stdout",
     "output_type": "stream",
     "text": [
      "John Wick\n",
      "50000\n",
      "Production\n",
      "Tony Stark\n",
      "40000\n",
      "Python\n"
     ]
    }
   ],
   "source": [
    "Manager1 = Manager('John Wick', 50000, 'Production' )\n",
    "\n",
    "print(Manager1.name)\n",
    "print(Manager1.salary)\n",
    "print(Manager1.department)\n",
    "\n",
    "Developer1 = Developer('Tony Stark', 40000, 'Python')\n",
    "\n",
    "print(Developer1.name)\n",
    "print(Developer1.salary)\n",
    "print(Developer1.programming_language)\n",
    "\n"
   ]
  },
  {
   "cell_type": "markdown",
   "id": "3660c939-c3b1-41f1-8c3d-d29a84c9ad29",
   "metadata": {},
   "source": [
    "8. Design a base class called \"Shape\" with attributes like \"colour\" and \"border_width.\"\n",
    "Create derived classes, \"Rectangle\" and \"Circle,\" that inherit from \"Shape\" and add\n",
    "specific attributes like \"length\" and \"width\" for the \"Rectangle\" class and \"radius\" for\n",
    "the \"Circle\" class.\n"
   ]
  },
  {
   "cell_type": "code",
   "execution_count": 34,
   "id": "a0d7a73b-456a-4242-b8f5-f81df71beb0c",
   "metadata": {},
   "outputs": [],
   "source": [
    "class Shape():\n",
    "    def __init__(self, colour, border_width):\n",
    "        self.colour = colour\n",
    "        self.border_width = border_width\n",
    "\n",
    "class Rectangle(Shape):\n",
    "    def __init__(self, colour, border_width, length, width):\n",
    "        super().__init__(colour, border_width)\n",
    "        self.length = length\n",
    "        self.width = width\n",
    "    \n",
    "class Circle(Shape):\n",
    "    def __init__(self,colour, border_width, radius):\n",
    "        super().__init__(colour, border_width)\n",
    "        self.radius = radius\n",
    "\n",
    "    def get_colour(self):\n",
    "        return self.colour\n",
    "    \n",
    "    def get_border_width(self):\n",
    "        return self.border_width\n",
    "    \n",
    "    def get_length(self):\n",
    "        return self.length\n",
    "    \n",
    "    def get_width(self):\n",
    "        return self.width\n",
    "    \n",
    "    def get_width(self):\n",
    "        return self.radius"
   ]
  },
  {
   "cell_type": "code",
   "execution_count": 36,
   "id": "363e9eb1-944e-406a-9104-3f79a38a936d",
   "metadata": {},
   "outputs": [
    {
     "name": "stdout",
     "output_type": "stream",
     "text": [
      "Blue\n",
      "1 mm\n",
      "100 mm\n",
      "40 mm\n",
      "Black\n",
      "0.5 mm\n",
      "80 mm\n"
     ]
    }
   ],
   "source": [
    "Rectangle1 = Rectangle('Blue', '1 mm', '100 mm', '40 mm' )\n",
    "print(Rectangle1.colour)\n",
    "print(Rectangle1.border_width)\n",
    "print(Rectangle1.length)\n",
    "print(Rectangle1.width)\n",
    "\n",
    "Circle1 = Circle('Black', '0.5 mm', '80 mm')\n",
    "print(Circle1.colour)\n",
    "print(Circle1.border_width)\n",
    "print(Circle1.radius)"
   ]
  },
  {
   "cell_type": "markdown",
   "id": "6a7ff274-c236-4dce-915d-a09ac6804747",
   "metadata": {},
   "source": [
    "9. Create a base class called \"Device\" with attributes like \"brand\" and \"model.\" Derive\n",
    "two classes, \"Phone\" and \"Tablet,\" from \"Device.\" Add specific attributes like\n",
    "\"screen_size\" for the \"Phone\" class and \"battery_capacity\" for the \"Tablet\" class.\n"
   ]
  },
  {
   "cell_type": "code",
   "execution_count": 2,
   "id": "2a19d15c-94aa-4ba9-bbb1-07d50c52e54e",
   "metadata": {},
   "outputs": [],
   "source": [
    "class Device():\n",
    "    def __init__(self, brand, model):\n",
    "        self.brand = brand\n",
    "        self.model = model\n",
    "\n",
    "class Phone(Device):\n",
    "    def __init__(self, brand, model,screen_size):\n",
    "        super().__init__(brand, model)\n",
    "        self.screen_size = screen_size\n",
    "\n",
    "class Tablet(Device):\n",
    "    def __init__(self, brand, model, battery_capacity):\n",
    "        super().__init__(brand, model)\n",
    "        self.battery_capacity = battery_capacity\n",
    "        \n",
    "    def get_brand(self):\n",
    "        return self.brand\n",
    "    \n",
    "    def get_model(self):\n",
    "        return self.model\n",
    "    \n",
    "    def get_screen_size(self):\n",
    "        return self.screen_size\n",
    "    \n",
    "    def get_battery_capacity(self):\n",
    "        return self.battery_capacity"
   ]
  },
  {
   "cell_type": "code",
   "execution_count": 10,
   "id": "58a673de-98bb-4402-a21b-5f29c338d603",
   "metadata": {},
   "outputs": [
    {
     "name": "stdout",
     "output_type": "stream",
     "text": [
      "Samsung\n",
      "M-21\n",
      "6.4 inch\n",
      "Apple\n",
      "I-pad 4\n",
      "6000 mAh\n"
     ]
    }
   ],
   "source": [
    "Phone1 = Phone('Samsung', 'M-21', '6.4 inch')\n",
    "\n",
    "print(Phone1.brand)\n",
    "print(Phone1.model)\n",
    "print(Phone1.screen_size)\n",
    "\n",
    "Tablet1 = Tablet('Apple', 'I-pad 4', '6000 mAh')\n",
    "\n",
    "print(Tablet1.brand)\n",
    "print(Tablet1.model)\n",
    "print(Tablet1.battery_capacity)"
   ]
  },
  {
   "cell_type": "markdown",
   "id": "5adcc95d-3d22-466c-9262-5937a8200dab",
   "metadata": {},
   "source": [
    "10. Create a base class called \"BankAccount\" with attributes like \"account_number\" and\n",
    "\"balance.\" Derive two classes, \"SavingsAccount\" and \"CheckingAccount,\" from\n",
    "\"BankAccount.\" Add specific methods like \"calculate_interest\" for the\n",
    "\"SavingsAccount\" class and \"deduct_fees\" for the \"CheckingAccount\" class."
   ]
  },
  {
   "cell_type": "code",
   "execution_count": 13,
   "id": "91146401-1f61-433e-83d9-c7f80882a2c7",
   "metadata": {},
   "outputs": [],
   "source": [
    "class BankAccount():\n",
    "    def __init__(self, account_number, balance):\n",
    "        self.account_number = account_number\n",
    "        self.balance = balance\n",
    "        \n",
    "class SavingsAccount(BankAccount):\n",
    "    def __init__(self, account_number, balance, calculate_interest):\n",
    "        super().__init__(account_number, balance)\n",
    "        self.calculate_interest = calculate_interest\n",
    "    \n",
    "class CheckingAccount(BankAccount):\n",
    "    def __init__(self, account_number, balance, deduct_fees):\n",
    "        super().__init__(account_number, balance)\n",
    "        self.deduct_fees = deduct_fees\n",
    "    \n",
    "    def get_account_number(self):\n",
    "        return self.account_number\n",
    "    \n",
    "    def get_balance(self):\n",
    "        return self.balance\n",
    "    \n",
    "    def get_calculate_interest(self):\n",
    "        return self.calculate_interest\n",
    "    \n",
    "    def get_deduct_fees(self):\n",
    "        return self.deduct_fees\n",
    "    "
   ]
  }
 ],
 "metadata": {
  "kernelspec": {
   "display_name": "Python 3 (ipykernel)",
   "language": "python",
   "name": "python3"
  },
  "language_info": {
   "codemirror_mode": {
    "name": "ipython",
    "version": 3
   },
   "file_extension": ".py",
   "mimetype": "text/x-python",
   "name": "python",
   "nbconvert_exporter": "python",
   "pygments_lexer": "ipython3",
   "version": "3.10.6"
  }
 },
 "nbformat": 4,
 "nbformat_minor": 5
}
