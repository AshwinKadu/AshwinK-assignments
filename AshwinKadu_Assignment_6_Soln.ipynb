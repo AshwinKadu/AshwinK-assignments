{
 "cells": [
  {
   "cell_type": "markdown",
   "id": "4e293f1d-049f-46c9-b31b-c84f6ac00f8b",
   "metadata": {},
   "source": [
    "Q.1. What are keywords in python? Using the keyword library, print all the python keywords."
   ]
  },
  {
   "cell_type": "markdown",
   "id": "cfcc7c30-7f9b-436b-a633-68f7898f0bd3",
   "metadata": {},
   "source": [
    "ANS: Python keywords are special reserved words that have specific meanings and purposes and can't be used for anything but those specific purposes."
   ]
  },
  {
   "cell_type": "code",
   "execution_count": 5,
   "id": "dd1395f7-c8f7-41d8-9f24-a65ab1f577ae",
   "metadata": {},
   "outputs": [
    {
     "name": "stdout",
     "output_type": "stream",
     "text": [
      "['False', 'None', 'True', 'and', 'as', 'assert', 'async', 'await', 'break', 'class', 'continue', 'def', 'del', 'elif', 'else', 'except', 'finally', 'for', 'from', 'global', 'if', 'import', 'in', 'is', 'lambda', 'nonlocal', 'not', 'or', 'pass', 'raise', 'return', 'try', 'while', 'with', 'yield']\n"
     ]
    }
   ],
   "source": [
    "import keyword\n",
    "print(keyword.kwlist)"
   ]
  },
  {
   "cell_type": "code",
   "execution_count": null,
   "id": "3faf235e-d045-4408-8f81-44334c4ca91b",
   "metadata": {},
   "outputs": [],
   "source": []
  },
  {
   "cell_type": "markdown",
   "id": "1c05b7b7-4e45-4e22-8f6f-9b8f231d716e",
   "metadata": {},
   "source": [
    "Q.2. What are the rules to create variables in python?"
   ]
  },
  {
   "cell_type": "markdown",
   "id": "56322599-53c8-44ba-b543-f7b03c2e1bd8",
   "metadata": {},
   "source": [
    "ANS:\n",
    "1. Variables can be made using any alphabate and number, underscores.\n",
    "2. The Number cannnot be placed in the front e.g. 1variable\n",
    "3. Variables are case sensitive so a and A are treated two different characters.\n",
    "4. Keywords define the language's syntax rules and structure, and they cannot be used as variable names."
   ]
  },
  {
   "cell_type": "code",
   "execution_count": null,
   "id": "24a7a64e-4b91-42f7-8011-a7fafeadc5ef",
   "metadata": {},
   "outputs": [],
   "source": []
  },
  {
   "cell_type": "markdown",
   "id": "31bd1b07-2f92-4fbc-8437-809c6b8609af",
   "metadata": {},
   "source": [
    "Q.3. What are the standards and conventions followed for the nomenclature of variables in\n",
    "python to improve code readability and maintainability?"
   ]
  },
  {
   "cell_type": "markdown",
   "id": "59a80c32-df68-4c5b-96b5-6e347e61ccc0",
   "metadata": {},
   "source": [
    "ANS:\n",
    "    1. Instance variable names should follow the lowercase convention. \n",
    "    \n",
    "    2. Have the underscore as a separator while naming a multi-word instance variable.\n",
    "    \n",
    "    3. Begin a non-public instance variable name with a single underscore.\n",
    "    \n",
    "    4. Use two consecutive underscores at the beginning of an instance variable.\n",
    "    \n",
    "    5. Use grammatically correct variable names, the class name should start with an uppercase and must follow camelCase convention If more than two words are to be used.\n",
    "    \n",
    "    6. In the same way, a function name should be joined with an underscore, and it must be lowercase."
   ]
  },
  {
   "cell_type": "code",
   "execution_count": null,
   "id": "3c423171-1281-4b10-bf13-f846d4a54a0a",
   "metadata": {},
   "outputs": [],
   "source": []
  },
  {
   "cell_type": "markdown",
   "id": "f5916c8a-087f-4f3b-8c50-00a107527165",
   "metadata": {},
   "source": [
    "Q.4. What will happen if a keyword is used as a variable name?"
   ]
  },
  {
   "cell_type": "markdown",
   "id": "5665e6dd-0f9d-40fe-a5a0-cfcb21f62622",
   "metadata": {},
   "source": [
    "ANS: Keywords define the language's syntax rules and structure, and they cannot be used as variable names."
   ]
  },
  {
   "cell_type": "code",
   "execution_count": null,
   "id": "a040f141-ff88-4f22-a482-57c5cf3f5588",
   "metadata": {},
   "outputs": [],
   "source": []
  },
  {
   "cell_type": "markdown",
   "id": "aebd15ad-cf50-4417-8b3d-cc1256561add",
   "metadata": {},
   "source": [
    "Q.5. For what purpose def keyword is used?"
   ]
  },
  {
   "cell_type": "markdown",
   "id": "6f0b272e-a7bf-4a17-b291-6230e0d65114",
   "metadata": {},
   "source": [
    "ANS: def keyword is used to define a function"
   ]
  },
  {
   "cell_type": "code",
   "execution_count": null,
   "id": "cd38a84b-4f5e-4667-98dc-6d7aeaee9797",
   "metadata": {},
   "outputs": [],
   "source": []
  },
  {
   "cell_type": "markdown",
   "id": "d40fc52d-3db3-4e8d-ae14-d7b1d41e7cbd",
   "metadata": {},
   "source": [
    "Q.6. What is the operation of this special character ‘\\’?"
   ]
  },
  {
   "cell_type": "markdown",
   "id": "d90316c8-0344-4ae6-8cf1-3055aa8b4a3f",
   "metadata": {},
   "source": [
    "ANS: The symbol is BLACKSLASH and it differentiates the file location in the network path or URL."
   ]
  },
  {
   "cell_type": "code",
   "execution_count": null,
   "id": "4440f3cd-06be-4cdf-a599-327589d1ce69",
   "metadata": {},
   "outputs": [],
   "source": []
  },
  {
   "cell_type": "markdown",
   "id": "8b3d21fc-5ab4-41c6-9acb-4519c4913650",
   "metadata": {},
   "source": [
    "Q.7. Give an example of the following conditions:\n",
    "(i) Homogeneous list\n",
    "(ii) Heterogeneous set\n",
    "(iii) Homogeneous tuple"
   ]
  },
  {
   "cell_type": "code",
   "execution_count": 2,
   "id": "a7477568-6e9a-4003-98d2-caf8aaeaf5a9",
   "metadata": {},
   "outputs": [
    {
     "name": "stdout",
     "output_type": "stream",
     "text": [
      "[1, 2, 'name', 'hello']\n",
      "<class 'list'>\n"
     ]
    }
   ],
   "source": [
    "#Homogeneous list\n",
    "list_1 = [1, 2, 55, 'name', 'hello']\n",
    "print(list_1)\n",
    "\n",
    "print(type(list_1))"
   ]
  },
  {
   "cell_type": "code",
   "execution_count": 3,
   "id": "577b3fa8-a303-4f82-bc5b-a5d28bc92fc9",
   "metadata": {},
   "outputs": [
    {
     "name": "stdout",
     "output_type": "stream",
     "text": [
      "{'apple', 'banana', 'cherry'}\n",
      "<class 'set'>\n"
     ]
    }
   ],
   "source": [
    "# Heterogenous set\n",
    "set_1 = {\"apple\", \"banana\", \"cherry\", \"apple\"}\n",
    "print(set_1)\n",
    "\n",
    "print(type(set_1))"
   ]
  },
  {
   "cell_type": "code",
   "execution_count": 5,
   "id": "e24e675b-7fcb-42a2-916d-daef1e88791e",
   "metadata": {},
   "outputs": [
    {
     "name": "stdout",
     "output_type": "stream",
     "text": [
      "('abc', True, 12, 'name')\n",
      "<class 'tuple'>\n"
     ]
    }
   ],
   "source": [
    "#Homogeneous tuple\n",
    "\n",
    "tup_1 = ('abc', True, 12, 'name')\n",
    "print(tup_1)\n",
    "\n",
    "print(type(tup_1))\n"
   ]
  },
  {
   "cell_type": "code",
   "execution_count": null,
   "id": "d4ac665c-4aa8-40c2-a1d8-e530311d7e53",
   "metadata": {},
   "outputs": [],
   "source": []
  },
  {
   "cell_type": "markdown",
   "id": "03ea9d6d-e469-40c6-a74f-6dbd6d3d21c4",
   "metadata": {},
   "source": [
    "Q.8. Explain the mutable and immutable data types with proper explanation & examples."
   ]
  },
  {
   "cell_type": "markdown",
   "id": "11ad49ab-fadc-4c7a-af21-0b5b830857f2",
   "metadata": {},
   "source": [
    "ANS: Mutable data types are \n",
    "        1. Lists\n",
    "        2. Dictionaries\n",
    "        3. Sets\n",
    "\n",
    "In above data types we can edit them as per our need by using operations like .append, .extend, .remove, etc."
   ]
  },
  {
   "cell_type": "code",
   "execution_count": 7,
   "id": "246a8cc4-54a5-40c6-a421-72784ecafdaf",
   "metadata": {},
   "outputs": [
    {
     "name": "stdout",
     "output_type": "stream",
     "text": [
      "[1, 2, 3, 4, 5]\n",
      "[1, 2, 3, 4, 5, 10]\n"
     ]
    }
   ],
   "source": [
    "#Example\n",
    "my_list = [1,2,3,4,5]\n",
    "print(my_list)\n",
    "\n",
    "# using append operation in our list\n",
    "my_list.append(10)\n",
    "print(my_list)\n",
    "\n"
   ]
  },
  {
   "cell_type": "code",
   "execution_count": 8,
   "id": "1d715ebf-8685-4e80-957b-fddc553f1509",
   "metadata": {},
   "outputs": [
    {
     "name": "stdout",
     "output_type": "stream",
     "text": [
      "{1, 2, 5, 6, 7, 11}\n",
      "Set after adding a value :  {16, 1, 2, 5, 6, 7, 11}\n"
     ]
    }
   ],
   "source": [
    "my_set = {1,2,6,5,7,11}\n",
    "print(my_set)\n",
    "\n",
    "# adding an element in our set\n",
    "my_set.add(16)\n",
    "# printing our set after the operation\n",
    "print(\"Set after adding a value : \",my_set)"
   ]
  },
  {
   "cell_type": "code",
   "execution_count": 10,
   "id": "b4e18f86-de89-4cca-b165-412af451bb1b",
   "metadata": {},
   "outputs": [
    {
     "name": "stdout",
     "output_type": "stream",
     "text": [
      "{'state': 'WB', 'Capital': 'Kolkata'}\n",
      "Dictionary after adding a new key-value pair =  {'state': 'WB', 'Capital': 'Kolkata', 'Country': 'India'}\n"
     ]
    }
   ],
   "source": [
    "my_dict = {\"state\":\"WB\", \"Capital\":\"Kolkata\"}\n",
    "print(my_dict)\n",
    "my_dict['Country'] = \"India\"\n",
    "\n",
    "# printing our dictionary after the operation\n",
    "print(\"Dictionary after adding a new key-value pair = \",my_dict)"
   ]
  },
  {
   "cell_type": "markdown",
   "id": "730ca476-1b7b-4712-9dc9-0a497f335ca7",
   "metadata": {},
   "source": [
    "Immutable data types are \n",
    "        1. Tuples\n",
    "        2. Numbers \n",
    "        3. Strings\n",
    "Numbers and strings cannot be changed after they are created"
   ]
  },
  {
   "cell_type": "code",
   "execution_count": 11,
   "id": "a78c1a25-94f0-42c0-83ba-24418df052ae",
   "metadata": {},
   "outputs": [
    {
     "ename": "AttributeError",
     "evalue": "'tuple' object has no attribute 'append'",
     "output_type": "error",
     "traceback": [
      "\u001b[0;31m---------------------------------------------------------------------------\u001b[0m",
      "\u001b[0;31mAttributeError\u001b[0m                            Traceback (most recent call last)",
      "Cell \u001b[0;32mIn [11], line 2\u001b[0m\n\u001b[1;32m      1\u001b[0m tup_1 \u001b[38;5;241m=\u001b[39m (\u001b[38;5;124m'\u001b[39m\u001b[38;5;124mabc\u001b[39m\u001b[38;5;124m'\u001b[39m, \u001b[38;5;28;01mTrue\u001b[39;00m, \u001b[38;5;241m12\u001b[39m, \u001b[38;5;124m'\u001b[39m\u001b[38;5;124mname\u001b[39m\u001b[38;5;124m'\u001b[39m)\n\u001b[0;32m----> 2\u001b[0m \u001b[43mtup_1\u001b[49m\u001b[38;5;241;43m.\u001b[39;49m\u001b[43mappend\u001b[49m(\u001b[38;5;241m10\u001b[39m)\n\u001b[1;32m      3\u001b[0m \u001b[38;5;28mprint\u001b[39m(tup_1)\n",
      "\u001b[0;31mAttributeError\u001b[0m: 'tuple' object has no attribute 'append'"
     ]
    }
   ],
   "source": [
    "tup_1 = ('abc', True, 12, 'name')\n",
    "tup_1.append(10)\n",
    "print(tup_1)\n",
    "\n",
    "#as tuple cannot be edited after its created so this will throw a error if we use the .append operation"
   ]
  },
  {
   "cell_type": "code",
   "execution_count": null,
   "id": "316dda58-f3d1-417d-9c62-6cbe72ff8bcf",
   "metadata": {},
   "outputs": [],
   "source": []
  },
  {
   "cell_type": "markdown",
   "id": "846cd99d-3988-4991-b4ff-e32d630ebbb6",
   "metadata": {},
   "source": [
    "Q.9. Write a code to create the given structure using only for loop.\n",
    "    *\n",
    "   ***\n",
    "  *****\n",
    " *******\n",
    "*********"
   ]
  },
  {
   "cell_type": "code",
   "execution_count": 55,
   "id": "b28dd2e0-f073-4f7e-a3fb-2803aab23c23",
   "metadata": {},
   "outputs": [
    {
     "name": "stdout",
     "output_type": "stream",
     "text": [
      "     *\n",
      "    ***\n",
      "   *****\n",
      "  *******\n",
      " *********\n"
     ]
    }
   ],
   "source": [
    "n = 6\n",
    "for i in range(n-1):\n",
    "    for a in range(i,n-1):\n",
    "        print(\" \", end=\"\")\n",
    "    for b in range(i+1):\n",
    "        print(\"*\", end = \"\")\n",
    "    for b in range(i):\n",
    "        print(\"*\", end = \"\")   \n",
    "    print()"
   ]
  },
  {
   "cell_type": "code",
   "execution_count": null,
   "id": "e5cf567a-62d1-4c00-b82f-28dde158c5c4",
   "metadata": {},
   "outputs": [],
   "source": []
  },
  {
   "cell_type": "markdown",
   "id": "6b942845-1684-4cb1-bc47-31b05fd8e4b7",
   "metadata": {},
   "source": [
    "Q.10. Write a code to create the given structure using while loop.\n",
    "|||||||||\n",
    " |||||||\n",
    "  |||||\n",
    "   |||\n",
    "    |"
   ]
  },
  {
   "cell_type": "code",
   "execution_count": 59,
   "id": "73f28331-ed8c-4863-bdc3-545bf6602475",
   "metadata": {},
   "outputs": [
    {
     "name": "stdout",
     "output_type": "stream",
     "text": [
      "|||||||||\n",
      " |||||||\n",
      "  |||||\n",
      "   |||\n",
      "    |\n"
     ]
    }
   ],
   "source": [
    "n = 5\n",
    "for i in range(n):\n",
    "    for b in range(i):\n",
    "        print(\" \", end = \"\")  \n",
    "    for b in range(i, n-1):\n",
    "        print(\"|\", end = \"\")\n",
    "    for b in range(i,n):\n",
    "        print(\"|\", end=\"\")\n",
    "    print()    "
   ]
  },
  {
   "cell_type": "code",
   "execution_count": null,
   "id": "cb969e7b-44ca-4ca7-a12e-461ae7f5b1c6",
   "metadata": {},
   "outputs": [],
   "source": []
  }
 ],
 "metadata": {
  "kernelspec": {
   "display_name": "Python 3 (ipykernel)",
   "language": "python",
   "name": "python3"
  },
  "language_info": {
   "codemirror_mode": {
    "name": "ipython",
    "version": 3
   },
   "file_extension": ".py",
   "mimetype": "text/x-python",
   "name": "python",
   "nbconvert_exporter": "python",
   "pygments_lexer": "ipython3",
   "version": "3.10.6"
  }
 },
 "nbformat": 4,
 "nbformat_minor": 5
}
