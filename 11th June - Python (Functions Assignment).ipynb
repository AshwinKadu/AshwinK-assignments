{
 "cells": [
  {
   "cell_type": "markdown",
   "id": "d97f8f5e-c5e4-418e-870d-e00ee508005a",
   "metadata": {},
   "source": [
    "1. What is a lambda function in Python, and how does it differ from a regular function?"
   ]
  },
  {
   "cell_type": "markdown",
   "id": "bf008aa3-2467-4c46-9130-bbadb9bc1f94",
   "metadata": {},
   "source": [
    "ANS: A lambda function is a function defined without a name that can take any number of arguments but, unlike normal functions, evaluates and returns only one expression."
   ]
  },
  {
   "cell_type": "markdown",
   "id": "80b2f0af-aa7d-4fce-8b16-575cdf94dab5",
   "metadata": {},
   "source": [
    "2. Can a lambda function in Python have multiple arguments? If yes, how can you define and use\n",
    "them?"
   ]
  },
  {
   "cell_type": "code",
   "execution_count": null,
   "id": "ae114d68-3568-4399-8726-90fdb6b30f23",
   "metadata": {},
   "outputs": [],
   "source": [
    "ANS: Yes, a lambda function can have multiple arguments."
   ]
  },
  {
   "cell_type": "code",
   "execution_count": 1,
   "id": "f942fd98-d989-496b-9f47-22f83b1edc8f",
   "metadata": {},
   "outputs": [
    {
     "name": "stdout",
     "output_type": "stream",
     "text": [
      "16\n"
     ]
    }
   ],
   "source": [
    "# Lambda example with single argument\n",
    "square = lambda x: x * x\n",
    "print(square(4))"
   ]
  },
  {
   "cell_type": "code",
   "execution_count": 2,
   "id": "2951853b-e66d-4519-940c-734da517ce98",
   "metadata": {},
   "outputs": [
    {
     "name": "stdout",
     "output_type": "stream",
     "text": [
      "30\n"
     ]
    }
   ],
   "source": [
    "# Lambda example with two arguments\n",
    "add = lambda x, y : x + y\n",
    "print(add(10, 20)) "
   ]
  },
  {
   "cell_type": "markdown",
   "id": "98337d44-307f-4987-8983-b7a7a408160f",
   "metadata": {},
   "source": [
    "3. How are lambda functions typically used in Python? Provide an example use case."
   ]
  },
  {
   "cell_type": "markdown",
   "id": "a3cf6ef1-7ca8-4327-9e90-bd8da758cba5",
   "metadata": {},
   "source": [
    "ANS: lambda functions are used as they take less lines of code than other functions.They are generally used when a function is needed temporarily for a short period of time, often to be used inside another function such as filter, map and reduce.  "
   ]
  },
  {
   "cell_type": "code",
   "execution_count": 5,
   "id": "297c29db-6f49-4000-8974-9453b10aa28b",
   "metadata": {},
   "outputs": [
    {
     "name": "stdout",
     "output_type": "stream",
     "text": [
      "[2, 4, 6, 8, 10]\n"
     ]
    }
   ],
   "source": [
    "# Using lambda inside filter function\n",
    "mylist = [2,3,4,5,6,7,8,9,10]\n",
    "list_new  = list(filter(lambda x : (x%2==0), mylist))\n",
    "print(list_new)"
   ]
  },
  {
   "cell_type": "markdown",
   "id": "1b12bd97-bf41-440e-8426-a454c6f25d49",
   "metadata": {},
   "source": [
    "4. What are the advantages and limitations of lambda functions compared to regular functions in\n",
    "Python?"
   ]
  },
  {
   "cell_type": "markdown",
   "id": "4c6af89c-f7f8-4b5a-a700-466fcd691f44",
   "metadata": {},
   "source": [
    "ANS: Advantages:-\n",
    "    1. They can be immediately passed around (no variable needed)\n",
    "    2.They return automatically\n",
    "\n",
    "Disadvantages:=\n",
    "    1.They can only have a single line of code within them\n",
    "    2.They can’t have a docstring and they don’t have a name\n",
    "    3.They use a different and unfamiliar syntax"
   ]
  },
  {
   "cell_type": "markdown",
   "id": "5fae085c-f60d-4206-a147-866fb51c37c0",
   "metadata": {},
   "source": [
    "5. Are lambda functions in Python able to access variables defined outside of their own scope?\n",
    "Explain with an example."
   ]
  },
  {
   "cell_type": "markdown",
   "id": "396112e5-5299-48cb-b092-73ff2d8e72fb",
   "metadata": {},
   "source": [
    "ANS: Lambda functions have their own local namespace and cannot access variables other than those in their parameter list and those in the global namespace."
   ]
  },
  {
   "cell_type": "code",
   "execution_count": 12,
   "id": "1df4bd01-3ef0-4901-8d79-dc1d998e3bcc",
   "metadata": {},
   "outputs": [
    {
     "name": "stdout",
     "output_type": "stream",
     "text": [
      "Sum of x and y is: 14\n"
     ]
    }
   ],
   "source": [
    "sum = lambda x,y: x + y;\n",
    "print(\"Sum of x and y is:\", sum(5,9))"
   ]
  },
  {
   "cell_type": "markdown",
   "id": "0edb0632-1cba-445a-b9b5-67f00c3497bb",
   "metadata": {},
   "source": [
    "6. Write a lambda function to calculate the square of a given number."
   ]
  },
  {
   "cell_type": "code",
   "execution_count": 15,
   "id": "75d4b531-7416-43e7-b418-9810ced1a1c7",
   "metadata": {},
   "outputs": [
    {
     "name": "stdout",
     "output_type": "stream",
     "text": [
      "81\n"
     ]
    }
   ],
   "source": [
    "square = lambda x: x * x;\n",
    "print(square(9))"
   ]
  },
  {
   "cell_type": "markdown",
   "id": "9ed91f7f-5893-401a-9b24-113b1baa2d8f",
   "metadata": {},
   "source": [
    "7. Create a lambda function to find the maximum value in a list of integers."
   ]
  },
  {
   "cell_type": "code",
   "execution_count": 16,
   "id": "9ad13902-4a97-482d-a7a3-8949001e364e",
   "metadata": {},
   "outputs": [],
   "source": [
    "max_value = lambda x : max(x)"
   ]
  },
  {
   "cell_type": "code",
   "execution_count": 18,
   "id": "8207d2b5-547d-4402-a633-c18263e1f5ca",
   "metadata": {},
   "outputs": [
    {
     "name": "stdout",
     "output_type": "stream",
     "text": [
      "75\n"
     ]
    }
   ],
   "source": [
    "list1 = [11,29,3,41,57,6,75,28,9]\n",
    "print(max(list1))"
   ]
  },
  {
   "cell_type": "markdown",
   "id": "4f414233-e86f-461a-aded-60ab11809844",
   "metadata": {},
   "source": [
    "8. Implement a lambda function to filter out all the even numbers from a list of integers."
   ]
  },
  {
   "cell_type": "code",
   "execution_count": 31,
   "id": "84f9f85b-caa0-4098-8971-aedf26155240",
   "metadata": {},
   "outputs": [],
   "source": [
    "even_numbers = lambda x : list(filter(lambda y: y % 2 == 0, x))"
   ]
  },
  {
   "cell_type": "code",
   "execution_count": 32,
   "id": "726c1cf4-f98e-4166-a4c4-9c173f4db0fb",
   "metadata": {},
   "outputs": [
    {
     "name": "stdout",
     "output_type": "stream",
     "text": [
      "[2, 4, 6, 8, 10, 12, 14, 16, 18, 20]\n"
     ]
    }
   ],
   "source": [
    "list2 = [1,2,3,4,5,6,7,8,9,10,11,12,13,14,15,16,17,18,19,20]\n",
    "print(even_numbers(list2))"
   ]
  },
  {
   "cell_type": "markdown",
   "id": "ec101469-26f9-4273-b1b3-0e77ac81a622",
   "metadata": {},
   "source": [
    "9. Write a lambda function to sort a list of strings in ascending order based on the length of each\n",
    "string."
   ]
  },
  {
   "cell_type": "code",
   "execution_count": 33,
   "id": "b9c97820-6110-4b3b-a8b3-4b87d0af69f6",
   "metadata": {},
   "outputs": [],
   "source": [
    "sorted_list = lambda x: sorted(x, key=lambda y: len(y))"
   ]
  },
  {
   "cell_type": "code",
   "execution_count": 34,
   "id": "5d58322d-ddbf-41cb-8055-a10172b94f0a",
   "metadata": {},
   "outputs": [
    {
     "name": "stdout",
     "output_type": "stream",
     "text": [
      "['date', 'apple', 'banana', 'cherry']\n"
     ]
    }
   ],
   "source": [
    "my_list = ['apple', 'banana', 'cherry', 'date']\n",
    "print(sorted_list(my_list))"
   ]
  },
  {
   "cell_type": "markdown",
   "id": "6961f6c8-c245-4706-9b16-461151fa6d88",
   "metadata": {},
   "source": [
    "10. Create a lambda function that takes two lists as input and returns a new list containing the\n",
    "common elements between the two lists."
   ]
  },
  {
   "cell_type": "code",
   "execution_count": 36,
   "id": "4f96afda-6a7f-4c2e-a12d-df1ca2c0c119",
   "metadata": {},
   "outputs": [],
   "source": [
    "common_elements = lambda x, y: list(set(x) & set(y))"
   ]
  },
  {
   "cell_type": "code",
   "execution_count": 39,
   "id": "1ca4bd21-229a-4791-804f-77686dba6e39",
   "metadata": {},
   "outputs": [
    {
     "name": "stdout",
     "output_type": "stream",
     "text": [
      "[4, 5]\n"
     ]
    }
   ],
   "source": [
    "list1 = [1, 2, 3, 4, 5]\n",
    "list2 = [4, 5, 6, 7, 8]\n",
    "print(common_elements(list1, list2))"
   ]
  },
  {
   "cell_type": "markdown",
   "id": "7758bbc3-d944-41a2-90df-2eb058d38e23",
   "metadata": {},
   "source": [
    "11. Write a recursive function to calculate the factorial of a given positive integer."
   ]
  },
  {
   "cell_type": "code",
   "execution_count": 40,
   "id": "a3e7b1bc-108b-4444-9a79-eb88e7dd6ef9",
   "metadata": {},
   "outputs": [
    {
     "name": "stdout",
     "output_type": "stream",
     "text": [
      "120\n"
     ]
    }
   ],
   "source": [
    "def factorial(n):\n",
    "    if n == 1:\n",
    "        return 1\n",
    "    else:\n",
    "        return n * factorial(n-1)\n",
    "    \n",
    "print(factorial(5))"
   ]
  },
  {
   "cell_type": "markdown",
   "id": "360690c3-7c90-4bfe-ba18-d780f5c4cd79",
   "metadata": {},
   "source": [
    "12. Implement a recursive function to compute the nth Fibonacci number."
   ]
  },
  {
   "cell_type": "code",
   "execution_count": 2,
   "id": "7fad9ede-a689-4b22-ac50-990633eaa7e9",
   "metadata": {},
   "outputs": [
    {
     "name": "stdout",
     "output_type": "stream",
     "text": [
      "55\n"
     ]
    }
   ],
   "source": [
    "def fibonacci(n):\n",
    "    if n <= 1:\n",
    "        return n\n",
    "    else:\n",
    "        return (fibonacci(n-1) + fibonacci(n-2))\n",
    "\n",
    "print(fibonacci(10))"
   ]
  },
  {
   "cell_type": "markdown",
   "id": "c5b82a87-70c3-48f4-8a3e-5053d17ae82f",
   "metadata": {},
   "source": [
    "13. Create a recursive function to find the sum of all the elements in a given list."
   ]
  },
  {
   "cell_type": "code",
   "execution_count": 4,
   "id": "0530d5c4-6e21-4328-865e-1c240bdb4a89",
   "metadata": {},
   "outputs": [
    {
     "name": "stdout",
     "output_type": "stream",
     "text": [
      "21\n"
     ]
    }
   ],
   "source": [
    "def sumOfList(list):\n",
    "    if len(list) == 1:\n",
    "        return list[0]\n",
    "    else:\n",
    "        return list[0] + sumOfList(list[1:])\n",
    "\n",
    "print(sumOfList([1, 2, 3, 4 ,5, 6]))"
   ]
  },
  {
   "cell_type": "markdown",
   "id": "f01c1c32-afba-4305-bf55-e947c0f9ad45",
   "metadata": {},
   "source": [
    "14. Write a recursive function to determine whether a given string is a palindrome."
   ]
  },
  {
   "cell_type": "code",
   "execution_count": 7,
   "id": "ed0ef9cf-6e8c-439c-9a66-322f96cf0c6d",
   "metadata": {},
   "outputs": [
    {
     "name": "stdout",
     "output_type": "stream",
     "text": [
      "True\n"
     ]
    }
   ],
   "source": [
    "def Palindrome(s):\n",
    "    if len(s) < 2:\n",
    "        return True\n",
    "    elif s[0] != s[-1]:\n",
    "        return False\n",
    "    else:\n",
    "        return Palindrome(s[1:-1])\n",
    "\n",
    "print(isPalindrome(\"racecar\"))"
   ]
  },
  {
   "cell_type": "markdown",
   "id": "ed6c15ea-afe2-4b51-9a50-e861979f1dea",
   "metadata": {},
   "source": [
    "15. Implement a recursive function to find the greatest common divisor (GCD) of two positive integers."
   ]
  },
  {
   "cell_type": "code",
   "execution_count": null,
   "id": "8bf5860a-3b16-4509-bb25-2418ca1720c2",
   "metadata": {},
   "outputs": [],
   "source": []
  }
 ],
 "metadata": {
  "kernelspec": {
   "display_name": "Python 3 (ipykernel)",
   "language": "python",
   "name": "python3"
  },
  "language_info": {
   "codemirror_mode": {
    "name": "ipython",
    "version": 3
   },
   "file_extension": ".py",
   "mimetype": "text/x-python",
   "name": "python",
   "nbconvert_exporter": "python",
   "pygments_lexer": "ipython3",
   "version": "3.10.6"
  }
 },
 "nbformat": 4,
 "nbformat_minor": 5
}
