{
 "cells": [
  {
   "cell_type": "markdown",
   "id": "48e4f8df-d556-41f3-b1dd-e45ac64af903",
   "metadata": {},
   "source": [
    "1. What is the primary goal of Object-Oriented Programming (OOP)?"
   ]
  },
  {
   "cell_type": "markdown",
   "id": "cbd00057-efba-4c8f-a308-4a880c7c52a1",
   "metadata": {},
   "source": [
    "ANS: To hold entire data into a single object such that it would be easy to pass this to other methods and objects.\n",
    "Also, it binds the data and the functions together so that no other par tof the code can access the functions accept the inside the object.\n"
   ]
  },
  {
   "cell_type": "markdown",
   "id": "1c93a484-7ee3-42dc-8ecd-e7d4b586b526",
   "metadata": {},
   "source": [
    "2. What is an object in Python?"
   ]
  },
  {
   "cell_type": "markdown",
   "id": "5069fee0-992c-4c42-ab07-bbebf01542f8",
   "metadata": {},
   "source": [
    "ANS: An object is the instance of a class. (A class is like a template to create a object) The class is like a blueprint and the object is copy of the blueprint with the properties or attributes."
   ]
  },
  {
   "cell_type": "markdown",
   "id": "3d9f7181-06d8-459c-b7fb-6b6a0f5b945b",
   "metadata": {},
   "source": [
    "3. What is a class in Python?"
   ]
  },
  {
   "cell_type": "markdown",
   "id": "340cfc83-68ee-42de-9767-76cce8c58653",
   "metadata": {},
   "source": [
    "ANS: Almost everything in python is an object, a Class is like an object constructor, or a \"blueprint\" for creating objects."
   ]
  },
  {
   "cell_type": "markdown",
   "id": "79709781-d9da-4954-990f-482c9c669c4a",
   "metadata": {},
   "source": [
    "4. What are attributes and methods in a class?"
   ]
  },
  {
   "cell_type": "code",
   "execution_count": null,
   "id": "ceee8d14-8f4c-49b7-86b5-abd65c1090e2",
   "metadata": {},
   "outputs": [],
   "source": [
    "ANS: The attributes are the variables and the the funtions are the called the methods>"
   ]
  },
  {
   "cell_type": "code",
   "execution_count": 3,
   "id": "f6817c56-669c-4525-a09f-70a5342ab028",
   "metadata": {},
   "outputs": [],
   "source": [
    "# Example\n",
    "class Car:\n",
    "    def __init__(self, Price, Model):\n",
    "        self.Price = Price\n",
    "        self.Model = Model\n",
    "    \n",
    "    def Assembly(self):\n",
    "        print(f\"Car {self.Model} is being assembled\")\n",
    "\n",
    "        # Attributes = Price, Model\n",
    "        # Methods = Assembly"
   ]
  },
  {
   "cell_type": "markdown",
   "id": "89681f77-130f-4e1a-a258-6f9ddc1563fc",
   "metadata": {},
   "source": [
    "5. What is the difference between class variables and instance variables in Python?"
   ]
  },
  {
   "cell_type": "markdown",
   "id": "49b909a9-0e4d-434b-a287-e9782730364b",
   "metadata": {},
   "source": [
    "ANS: Class variables are not tied to any particular object of the class, hence shared across all the objects of the class.\n",
    "\n",
    "Instance variables are tied to the particular object instance of the class, hence the contents of an instance variable are completely independent from one object instance to the other."
   ]
  },
  {
   "cell_type": "markdown",
   "id": "da4b0f0a-e8b1-4546-a583-a61cdbca7526",
   "metadata": {},
   "source": [
    "6. What is the purpose of the self parameter in Python class methods?"
   ]
  },
  {
   "cell_type": "markdown",
   "id": "4741eb64-aa79-4450-b8d5-a0e903d356bf",
   "metadata": {},
   "source": [
    "ANS: 'self' keyword allows you to access variables, attributes, and methods of a defined class in Python. Also, any other word can be used instead of 'self', but it is common practice to use 'self'."
   ]
  },
  {
   "cell_type": "raw",
   "id": "f014baa8-a83e-4d87-adf5-8e67cc77b960",
   "metadata": {},
   "source": [
    "7. For a library management system, you have to design the \"Book\" class with OOP\n",
    "principles in mind. The “Book” class will have following attributes:\n",
    "\n",
    "a. title: Represents the title of the book.\n",
    "b. author: Represents the author(s) of the book.\n",
    "c. isbn: Represents the ISBN (International Standard Book Number) of the book.\n",
    "d. publication_year: Represents the year of publication of the book.\n",
    "e. available_copies: Represents the number of copies available for checkout.\n",
    "\n",
    "The class will also include the following methods:\n",
    "\n",
    "a. check_out(self): Decrements the available copies by one if there are copies\n",
    "available for checkout.\n",
    "b. return_book(self): Increments the available copies by one when a book is\n",
    "returned.\n",
    "c. display_book_info(self): Displays the information about the book, including its\n",
    "attributes and the number of available copies."
   ]
  },
  {
   "cell_type": "code",
   "execution_count": 10,
   "id": "bbe76b04-cf35-4259-924a-94e47dccf100",
   "metadata": {},
   "outputs": [],
   "source": [
    "class book:\n",
    "    def __init__(self, title, author, isbn, publication_year, available_copies):\n",
    "        self.title = title \n",
    "        self.author = author\n",
    "        self.isbn = isbn \n",
    "        self.publication_year = publication_year\n",
    "        self.available_copies = available_copies\n",
    "    \n",
    "    def check_out(self):\n",
    "        self.available_copies = int(self.available_copies) - 1\n",
    "        \n",
    "    def return_book(self):\n",
    "        self.available_copies = int(self.available_copies) + 1\n",
    "        \n",
    "    def display_book_info(self):\n",
    "        print(f\"\"\"Details of the book are Title : \n",
    "        Title : {self.title}\n",
    "        Author : {self.author}\n",
    "        ISBN no. : {self.isbn}\n",
    "        Year of Publication : {self.publication_year}\n",
    "        Copies : {self.available_copies} \"\"\")\n",
    "        "
   ]
  },
  {
   "cell_type": "code",
   "execution_count": 11,
   "id": "53c123b9-985d-4124-81c6-e84bdb99dead",
   "metadata": {},
   "outputs": [
    {
     "name": "stdout",
     "output_type": "stream",
     "text": [
      "Details of the book are Title : \n",
      "        Title : Pyhton\n",
      "        Author : Ashwin\n",
      "        ISBN no. : 151511\n",
      "        Year of Publication : 2023\n",
      "        Copies : 10 \n"
     ]
    }
   ],
   "source": [
    "book1 = book(\"Pyhton\", \"Ashwin\", \"151511\", \"2023\", \"10\")\n",
    "book1.display_book_info()"
   ]
  },
  {
   "cell_type": "code",
   "execution_count": 12,
   "id": "a3db696b-7cb3-4f58-81f4-8607d70f2862",
   "metadata": {},
   "outputs": [
    {
     "name": "stdout",
     "output_type": "stream",
     "text": [
      "9\n"
     ]
    }
   ],
   "source": [
    "book1.check_out()\n",
    "print(book1.available_copies)"
   ]
  },
  {
   "cell_type": "code",
   "execution_count": 13,
   "id": "c7403d07-e76d-4bd4-9c75-9fecd22d1346",
   "metadata": {},
   "outputs": [
    {
     "name": "stdout",
     "output_type": "stream",
     "text": [
      "10\n"
     ]
    }
   ],
   "source": [
    "book1.return_book()\n",
    "print(book1.available_copies)"
   ]
  },
  {
   "cell_type": "raw",
   "id": "ba075cdd-c233-45bc-b1a8-cf2972913472",
   "metadata": {},
   "source": [
    "8. For a ticket booking system, you have to design the \"Ticket\" class with OOP\n",
    "principles in mind. The “Ticket” class should have the following attributes:\n",
    "    \n",
    "a. ticket_id: Represents the unique identifier for the ticket.\n",
    "b. event_name: Represents the name of the event.\n",
    "c. event_date: Represents the date of the event.\n",
    "d. venue: Represents the venue of the event.\n",
    "e. seat_number: Represents the seat number associated with the ticket.\n",
    "f. price: Represents the price of the ticket.\n",
    "g. is_reserved: Represents the reservation status of the ticket.\n",
    "\n",
    "The class also includes the following methods:\n",
    "    \n",
    "a. reserve_ticket(self): Marks the ticket as reserved if it is not already reserved.\n",
    "b. cancel_reservation(self): Cancels the reservation of the ticket if it is already\n",
    "reserved.\n",
    "c. display_ticket_info(self): Displays the information about the ticket, including its\n",
    "attributes and reservation status."
   ]
  },
  {
   "cell_type": "code",
   "execution_count": 47,
   "id": "0d247bfe-c15d-4394-81b9-5db84fcc4029",
   "metadata": {},
   "outputs": [],
   "source": [
    "class Ticket:\n",
    "    def __init__(self, ticket_id, event_name, event_date, venue, seat_number, price, is_reserved):\n",
    "        self.ticket_id = ticket_id\n",
    "        self.event_name = event_name\n",
    "        self.event_date = event_date       \n",
    "        self.venue = venue\n",
    "        self.seat_number = seat_number\n",
    "        self.price = price\n",
    "        self.is_reserved = is_reserved\n",
    "        \n",
    "    def reserve_ticket(self):\n",
    "        no = self.is_reserved\n",
    "        if self.is_reserved == no:\n",
    "            print(f\"{self.ticket_id} is not reserved.\")\n",
    "        else:\n",
    "            print(f\"{self.ticket_id} is reserved.\")\n",
    "            \n",
    "    def cancel_reservation(self):\n",
    "        print(f\"Reservation of {self.ticket_id} is cancled.\")\n",
    "            \n",
    "    def display_ticket_info(self):\n",
    "        print(f\"\"\"Details of the Ticket: \n",
    "        Ticket Id     = {self.ticket_id}\n",
    "        Name of Event = {self.event_name}\n",
    "        Date of Event = {self.event_date} \n",
    "        Venue         = {self.venue}\n",
    "        Seat Number   = {self.seat_number}\n",
    "        price         = {self.price}\n",
    "        Reservation   = {self.is_reserved}\"\"\")"
   ]
  },
  {
   "cell_type": "code",
   "execution_count": 48,
   "id": "a466477c-eaee-48e2-867f-23a3440bf197",
   "metadata": {},
   "outputs": [
    {
     "name": "stdout",
     "output_type": "stream",
     "text": [
      "Details of the Ticket: \n",
      "        Ticket Id     = AB-1234\n",
      "        Name of Event = Consert\n",
      "        Date of Event = 20/05/2023 \n",
      "        Venue         = Mumbai\n",
      "        Seat Number   = J-52\n",
      "        price         = 2000/-\n",
      "        Reservation   = no\n"
     ]
    }
   ],
   "source": [
    "Ticket1 = Ticket(\"AB-1234\", \"Consert\", \"20/05/2023\", \"Mumbai\", \"J-52\", \"2000/-\", \"no\")\n",
    "Ticket1.display_ticket_info()"
   ]
  },
  {
   "cell_type": "code",
   "execution_count": 49,
   "id": "890005c8-62d6-40b1-b0f1-86b22a24a638",
   "metadata": {},
   "outputs": [
    {
     "name": "stdout",
     "output_type": "stream",
     "text": [
      "AB-1234 is not reserved.\n"
     ]
    }
   ],
   "source": [
    "Ticket1.reserve_ticket()"
   ]
  },
  {
   "cell_type": "code",
   "execution_count": 50,
   "id": "bf44f3ae-e46b-4695-bcdf-45dbde5b8a49",
   "metadata": {},
   "outputs": [
    {
     "name": "stdout",
     "output_type": "stream",
     "text": [
      "Reservation of AB-1234 is cancled.\n"
     ]
    }
   ],
   "source": [
    "Ticket1.cancel_reservation()"
   ]
  },
  {
   "cell_type": "raw",
   "id": "83f95869-0cc3-4093-b8a8-d0bb87d310d2",
   "metadata": {},
   "source": [
    "9. You are creating a shopping cart for an e-commerce website. Using OOP to model\n",
    "the \"ShoppingCart\" functionality the class should contain following attributes and\n",
    "methods:\n",
    "    \n",
    "a. items: Represents the list of items in the shopping cart.\n",
    "The class also includes the following methods:\n",
    "\n",
    "a. add_item(self, item): Adds an item to the shopping cart by appending it to the\n",
    "list of items.\n",
    "\n",
    "b. remove_item(self, item): Removes an item from the shopping cart if it exists in\n",
    "the list.\n",
    "\n",
    "c. view_cart(self): Displays the items currently present in the shopping cart.\n",
    "\n",
    "d. clear_cart(self): Clears all items from the shopping cart by reassigning an\n",
    "empty list to the items attribute."
   ]
  },
  {
   "cell_type": "code",
   "execution_count": 155,
   "id": "91dae8e5-7d9c-49b6-95e1-2e01678f5dc1",
   "metadata": {},
   "outputs": [],
   "source": [
    "class Shopping_cart:\n",
    "    def __init__(self,cart):\n",
    "        self.cart = cart\n",
    "        self.Shopping_list = []\n",
    "        \n",
    "    def add_item(self, item):\n",
    "        self.Shopping_list.append(item)\n",
    "        \n",
    "    def remove_item(self, item):\n",
    "        if item in self.Shopping_list:\n",
    "            self.Shopping_list.remove(item)\n",
    "            print(f\"Item '{item}' removed\")\n",
    "        else:\n",
    "            print(\"The item is not found\")\n",
    "     \n",
    "    def view_cart(self):\n",
    "        print(\"The Shopping cart has following items in it :\")\n",
    "        for item in self.Shopping_list:\n",
    "            print(item)"
   ]
  },
  {
   "cell_type": "code",
   "execution_count": 156,
   "id": "7deb90af-77fc-4009-b0c1-a54ddff0fc5c",
   "metadata": {},
   "outputs": [
    {
     "data": {
      "text/plain": [
       "[]"
      ]
     },
     "execution_count": 156,
     "metadata": {},
     "output_type": "execute_result"
    }
   ],
   "source": [
    "list1 = Shopping_cart(list1)\n",
    "list1.Shopping_list"
   ]
  },
  {
   "cell_type": "code",
   "execution_count": 157,
   "id": "7d053416-da19-4ad1-bbbe-24426e97050a",
   "metadata": {},
   "outputs": [],
   "source": [
    "list1.add_item(\"Milk\")"
   ]
  },
  {
   "cell_type": "code",
   "execution_count": 158,
   "id": "fd8dbdc0-3fb3-4a9b-a90b-4a01e7f14c97",
   "metadata": {},
   "outputs": [],
   "source": [
    "list1.add_item(\"Bread\")"
   ]
  },
  {
   "cell_type": "code",
   "execution_count": 159,
   "id": "0586d885-856a-4b93-9c9a-6e608a12b4e8",
   "metadata": {},
   "outputs": [],
   "source": [
    "list1.add_item(\"Peanuts\")"
   ]
  },
  {
   "cell_type": "code",
   "execution_count": 160,
   "id": "c3cef53a-e36b-418a-a501-c7a3f9b078a5",
   "metadata": {},
   "outputs": [],
   "source": [
    "list1.add_item(\"Salt\")"
   ]
  },
  {
   "cell_type": "code",
   "execution_count": 161,
   "id": "2ea7fb7c-db10-4d9c-8cb6-9f7bc82b5627",
   "metadata": {},
   "outputs": [
    {
     "name": "stdout",
     "output_type": "stream",
     "text": [
      "The Shopping cart has following items in it :\n",
      "Milk\n",
      "Bread\n",
      "Peanuts\n",
      "Salt\n"
     ]
    }
   ],
   "source": [
    "list1.view_cart()"
   ]
  },
  {
   "cell_type": "code",
   "execution_count": 162,
   "id": "380548a6-671d-43a1-b3ac-3e1f17515c88",
   "metadata": {},
   "outputs": [
    {
     "name": "stdout",
     "output_type": "stream",
     "text": [
      "Item 'Milk' removed\n"
     ]
    }
   ],
   "source": [
    "list1.remove_item(\"Milk\")"
   ]
  },
  {
   "cell_type": "code",
   "execution_count": 163,
   "id": "20211cf4-ccf0-457a-8ca2-c97a5500717a",
   "metadata": {},
   "outputs": [
    {
     "name": "stdout",
     "output_type": "stream",
     "text": [
      "The Shopping cart has following items in it :\n",
      "Bread\n",
      "Peanuts\n",
      "Salt\n"
     ]
    }
   ],
   "source": [
    "list1.view_cart()"
   ]
  },
  {
   "cell_type": "markdown",
   "id": "90bdeb72-2004-42d5-ae73-d3bafefda34a",
   "metadata": {},
   "source": [
    "10. Imagine a school management system. You have to design the \"Student\" class using\n",
    "OOP concepts.The “Student” class has the following attributes:\n",
    "    \n",
    "a. name: Represents the name of the student.\n",
    "b. age: Represents the age of the student.\n",
    "c. grade: Represents the grade or class of the student.\n",
    "d. student_id: Represents the unique identifier for the student.\n",
    "e. attendance: Represents the attendance record of the student.\n",
    "\n",
    "The class should also include the following methods:\n",
    "    \n",
    "a. update_attendance(self, date, status): Updates the attendance record of the\n",
    "student for a given date with the provided status (e.g., present or absent).\n",
    "b. get_attendance(self): Returns the attendance record of the student.\n",
    "c. get_average_attendance(self): Calculates and returns the average\n",
    "attendance percentage of the student based on their attendance record."
   ]
  },
  {
   "cell_type": "code",
   "execution_count": 52,
   "id": "d034a259-35a4-422b-8fe4-504ddae20010",
   "metadata": {},
   "outputs": [],
   "source": [
    "class Student:\n",
    "    def __init__(self, name, age, grade, student_id):\n",
    "        self.name = name\n",
    "        self.age = age\n",
    "        self.grade = grade\n",
    "        self.student_id = student_id\n",
    "        self.attendance = []\n",
    "\n",
    "    def update_attendance(self, date, status):\n",
    "        self.attendance.append(date)\n",
    "        self.status = status\n",
    "        \n",
    "    def get_attendance(self):\n",
    "        return self.attendance\n",
    "    \n",
    "    def get_average_attendance(self):\n",
    "        print((int(len(self.attendance))/5)*100) #5 is the average working days of weekin school\n",
    "\n",
    "    def __str__(self):\n",
    "        return f\"\"\"Name: {self.name},\n",
    "        Age: {self.age}, \n",
    "        Grade: {self.grade}, \n",
    "        Student ID: {self.student_id}, \n",
    "        Attendance Record: {self.attendance}\"\"\"\n",
    "\n",
    "\n"
   ]
  },
  {
   "cell_type": "code",
   "execution_count": 56,
   "id": "6477580c-51e1-4e14-8323-504681c03f03",
   "metadata": {},
   "outputs": [],
   "source": [
    "student1 = Student(\"John\", 15, \"10th\", \"A-15\")"
   ]
  },
  {
   "cell_type": "code",
   "execution_count": 57,
   "id": "a456a2e8-a0e6-49d6-8177-1bc4414e4e52",
   "metadata": {},
   "outputs": [
    {
     "name": "stdout",
     "output_type": "stream",
     "text": [
      "Name: John,\n",
      "        Age: 15, \n",
      "        Grade: 10th, \n",
      "        Student ID: A-15, \n",
      "        Attendance Record: ['2023-08-05', '2023-08-06', '2023-08-07', '2023-08-08']\n"
     ]
    }
   ],
   "source": [
    "\n",
    "student1.update_attendance(\"2023-08-05\", \"present\")\n",
    "student1.update_attendance(\"2023-08-06\", \"present\")\n",
    "student1.update_attendance(\"2023-08-07\", \"present\")\n",
    "student1.update_attendance(\"2023-08-08\", \"present\")\n",
    "\n",
    "print(student1)"
   ]
  },
  {
   "cell_type": "code",
   "execution_count": 58,
   "id": "cbb0d786-6318-4719-bfe6-ef378047aa07",
   "metadata": {},
   "outputs": [
    {
     "data": {
      "text/plain": [
       "['2023-08-05', '2023-08-06', '2023-08-07', '2023-08-08']"
      ]
     },
     "execution_count": 58,
     "metadata": {},
     "output_type": "execute_result"
    }
   ],
   "source": [
    "student1.get_attendance()"
   ]
  },
  {
   "cell_type": "code",
   "execution_count": 59,
   "id": "a48ee03c-6064-4ca0-8dd9-2cf025f4e007",
   "metadata": {},
   "outputs": [
    {
     "name": "stdout",
     "output_type": "stream",
     "text": [
      "80.0\n"
     ]
    }
   ],
   "source": [
    "student1.get_average_attendance()"
   ]
  },
  {
   "cell_type": "code",
   "execution_count": null,
   "id": "5578e688-ce9c-40f7-b669-8d60a6f7be2c",
   "metadata": {},
   "outputs": [],
   "source": []
  }
 ],
 "metadata": {
  "kernelspec": {
   "display_name": "Python 3 (ipykernel)",
   "language": "python",
   "name": "python3"
  },
  "language_info": {
   "codemirror_mode": {
    "name": "ipython",
    "version": 3
   },
   "file_extension": ".py",
   "mimetype": "text/x-python",
   "name": "python",
   "nbconvert_exporter": "python",
   "pygments_lexer": "ipython3",
   "version": "3.10.6"
  }
 },
 "nbformat": 4,
 "nbformat_minor": 5
}
