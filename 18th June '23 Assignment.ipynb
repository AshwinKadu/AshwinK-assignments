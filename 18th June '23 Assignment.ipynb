{
 "cells": [
  {
   "cell_type": "markdown",
   "id": "f39c3c41-40cc-4783-9c98-6cde8d733fc3",
   "metadata": {},
   "source": [
    "1. What is the role of the 'else' block in a try-except statement? Provide an example\n",
    "scenario where it would be useful."
   ]
  },
  {
   "cell_type": "markdown",
   "id": "0a59192e-8eb3-499a-8896-174a97fd869d",
   "metadata": {},
   "source": [
    "ANS: In Python, the try-except statement is used to handle exceptions that may occur during program execution. The else block is an optional block of code that is executed only if no exceptions are raised in the try block"
   ]
  },
  {
   "cell_type": "code",
   "execution_count": 1,
   "id": "968aaeff-4cc9-40b2-9413-7a8419b1f7cf",
   "metadata": {},
   "outputs": [
    {
     "name": "stdout",
     "output_type": "stream",
     "text": [
      "File not found\n"
     ]
    }
   ],
   "source": [
    "try:\n",
    "    with open('file.txt', 'r') as f:\n",
    "        print(f.read())\n",
    "except FileNotFoundError:\n",
    "    print('File not found')\n",
    "else:\n",
    "    print('File read successfully')\n",
    "    \n",
    "#Now in this example if th file was located in the try block \n",
    "#the console would have printed \"File read successfully\".\n"
   ]
  },
  {
   "cell_type": "markdown",
   "id": "0724fcaa-3421-4f25-a449-da82673bee50",
   "metadata": {},
   "source": [
    "2. Can a try-except block be nested inside another try-except block? Explain with an\n",
    "example."
   ]
  },
  {
   "cell_type": "markdown",
   "id": "bc715dd2-7655-4dc3-be14-cf862b8e34ef",
   "metadata": {},
   "source": [
    "ANS: Yes,, a try-except block can be nested inside another try-except block in Python. This is useful when you want to handle different types of exceptions in different ways. Here’s an example:"
   ]
  },
  {
   "cell_type": "code",
   "execution_count": 19,
   "id": "ae59bf14-cadd-43f9-b787-be44bfda88d1",
   "metadata": {},
   "outputs": [
    {
     "name": "stdout",
     "output_type": "stream",
     "text": [
      "outer try block\n",
      "outer except block\n",
      "outer finally block\n"
     ]
    }
   ],
   "source": [
    "try:\n",
    "    print(\"outer try block\")\n",
    "    print(10/0)\n",
    "    try:\n",
    "        print(\"Inner try block\")\n",
    "    except ZeroDivisionError:\n",
    "        print(\"Inner except block\")\n",
    "    finally:\n",
    "        print(\"Inner finally block\")\n",
    "except:\n",
    "    print(\"outer except block\")\n",
    "finally:\n",
    "    print(\"outer finally block\")"
   ]
  },
  {
   "cell_type": "markdown",
   "id": "9cc7611e-3f74-427b-819e-6d2ab2c0ed7e",
   "metadata": {},
   "source": [
    "3. How can you create a custom exception class in Python? Provide an example that\n",
    "demonstrates its usage."
   ]
  },
  {
   "cell_type": "markdown",
   "id": "720d1d3c-802d-4c4d-8ed8-4561aaa59abc",
   "metadata": {},
   "source": [
    "ANS:To create a custom exception class in Python, you can define a new class that inherits from the built-in Exception class. Here’s an example"
   ]
  },
  {
   "cell_type": "code",
   "execution_count": 20,
   "id": "3dff1df6-8c72-4ed2-ad55-7a95292069ff",
   "metadata": {},
   "outputs": [
    {
     "name": "stdout",
     "output_type": "stream",
     "text": [
      "This is my custom exception\n"
     ]
    }
   ],
   "source": [
    "class MyException(Exception):\n",
    "    pass\n",
    "\n",
    "try:\n",
    "    raise MyException('This is my custom exception')\n",
    "except MyException as e:\n",
    "    print(e)\n"
   ]
  },
  {
   "cell_type": "markdown",
   "id": "991d2093-a280-49a4-ad3c-c2fbb87ce513",
   "metadata": {},
   "source": [
    "4. What are some common exceptions that are built-in to Python?"
   ]
  },
  {
   "cell_type": "markdown",
   "id": "2573fd61-0c60-4701-9027-532e35a57a40",
   "metadata": {},
   "source": [
    "ANS: Python has several built-in exceptions that can be raised during program execution. Here are some of the most common ones:\n",
    "\n",
    "SyntaxError: Raised when there is a syntax error in the code.\n",
    "TypeError: Raised when an operation or function is applied to an object of inappropriate type.\n",
    "NameError: Raised when a variable or name is not found in the current scope.\n",
    "IndexError: Raised when an index is out of range.\n",
    "KeyError: Raised when a key is not found in a dictionary.\n",
    "ValueError: Raised when a function argument has an inappropriate value.\n",
    "ZeroDivisionError: Raised when division or modulo by zero takes place."
   ]
  },
  {
   "cell_type": "markdown",
   "id": "4b25328a-c0aa-4182-a8aa-626835412fda",
   "metadata": {},
   "source": [
    "5. What is logging in Python, and why is it important in software development?"
   ]
  },
  {
   "cell_type": "markdown",
   "id": "79c94fe6-48cd-4225-8aa7-4deff29d9592",
   "metadata": {},
   "source": [
    "ANS: In Python, logging is the process of recording messages that describe the state of a program during its execution. \n",
    "\n",
    "Logging is important in software development because  it allows developers to:\n",
    "\n",
    "Debug their code by providing detailed information about the state of the program at different points in time.\n",
    "Monitor their code by tracking how often certain events occur and how long they take to complete.\n",
    "Audit their code by keeping a record of important events and actions that take place during program execution.\n"
   ]
  },
  {
   "cell_type": "markdown",
   "id": "eda5a3f0-139d-445c-8ff6-dd5c3e2a0199",
   "metadata": {},
   "source": [
    "6. Explain the purpose of log levels in Python logging and provide examples of when\n",
    "each log level would be appropriate."
   ]
  },
  {
   "cell_type": "markdown",
   "id": "4c33b8c5-a05c-49c2-8f3d-380787e74707",
   "metadata": {},
   "source": [
    "ANS: In Python, logging levels are used to categorize log messages based on their severity.\n",
    "\n",
    "1. DEBUG: Use this level for detailed information that is only useful for debugging purposes.\n",
    "2. INFO: Use this level for general information about the program’s execution that might be useful for monitoring\n",
    "3. WARNING: Use this level for messages that indicate something unexpected or undesirable has happened\n",
    "4. ERROR: Use this level for messages that indicate a more serious problem has occurred and the software has not been able to perform some function\n",
    "5. CRITICAL: Use this level for messages that indicate a very serious error has occurred and the program itself may be unable to continue running."
   ]
  },
  {
   "cell_type": "markdown",
   "id": "44d79a3a-4f25-45ed-9c1b-e993978efbc8",
   "metadata": {},
   "source": [
    "7. What are log formatters in Python logging, and how can you customise the log\n",
    "message format using formatters?"
   ]
  },
  {
   "cell_type": "markdown",
   "id": "4224884e-b903-4c23-ada4-439f70341b1d",
   "metadata": {},
   "source": [
    "ANS: In Python, log formatters are used to specify the layout of log messages. A formatter is an object that defines how log records are rendered into text. \n",
    "\n",
    "Here’s an example of how you can use a formatter to customize the log message format:"
   ]
  },
  {
   "cell_type": "code",
   "execution_count": 21,
   "id": "55321482-707d-4a4c-ae9f-f5988a6d3d6a",
   "metadata": {},
   "outputs": [
    {
     "name": "stderr",
     "output_type": "stream",
     "text": [
      "2023-08-27 15:24:40,293 - DEBUG - 2775575404.py:13 - This is a debug message.\n",
      "2023-08-27 15:24:40,295 - INFO - 2775575404.py:14 - This is an info message.\n",
      "2023-08-27 15:24:40,298 - WARNING - 2775575404.py:15 - This is a warning message.\n",
      "2023-08-27 15:24:40,299 - ERROR - 2775575404.py:16 - This is an error message.\n",
      "2023-08-27 15:24:40,301 - CRITICAL - 2775575404.py:17 - This is a critical message.\n"
     ]
    }
   ],
   "source": [
    "import logging\n",
    "\n",
    "console_handler = logging.StreamHandler()\n",
    "\n",
    "formatter = logging.Formatter('%(asctime)s - %(levelname)s - %(filename)s:%(lineno)d - %(message)s')\n",
    "\n",
    "console_handler.setFormatter(formatter)\n",
    "\n",
    "logger = logging.getLogger()\n",
    "logger.setLevel(logging.DEBUG)\n",
    "logger.addHandler(console_handler)\n",
    "\n",
    "logger.debug(\"This is a debug message.\")\n",
    "logger.info(\"This is an info message.\")\n",
    "logger.warning(\"This is a warning message.\")\n",
    "logger.error(\"This is an error message.\")\n",
    "logger.critical(\"This is a critical message.\")"
   ]
  },
  {
   "cell_type": "markdown",
   "id": "0e2d88a9-d47d-47c5-ad8d-9e70b7c24998",
   "metadata": {},
   "source": [
    "8. How can you set up logging to capture log messages from multiple modules or\n",
    "classes in a Python application?"
   ]
  },
  {
   "cell_type": "markdown",
   "id": "fba9b2da-956e-4fa9-b4de-c84c7fc33a80",
   "metadata": {},
   "source": [
    "ANS: To capture log messages from multiple modules or classes in a Python application, you can create a logger object for each module or class and configure them to use the same logging level and output format."
   ]
  },
  {
   "cell_type": "code",
   "execution_count": 23,
   "id": "5e7f0de9-5ba7-48e9-ab69-2d9c7a01db83",
   "metadata": {},
   "outputs": [
    {
     "name": "stderr",
     "output_type": "stream",
     "text": [
      "2023-08-27 15:27:10,906 - DEBUG - 4012468780.py:12 - This is a debug message from module1\n",
      "2023-08-27 15:27:10,908 - INFO - 4012468780.py:13 - This is an info message from module1\n"
     ]
    }
   ],
   "source": [
    "import logging\n",
    "\n",
    "module1_logger = logging.getLogger('module1')\n",
    "module1_logger.setLevel(logging.DEBUG)\n",
    "\n",
    "formatter = logging.Formatter('%(asctime)s - %(name)s - %(levelname)s - %(message)s')\n",
    "fh = logging.FileHandler('example.log')\n",
    "fh.setFormatter(formatter)\n",
    "\n",
    "module1_logger.addHandler(fh)\n",
    "\n",
    "module1_logger.debug('This is a debug message from module1')\n",
    "module1_logger.info('This is an info message from module1')"
   ]
  },
  {
   "cell_type": "markdown",
   "id": "2846d0e3-dac8-46bc-9f96-38f271e856cd",
   "metadata": {},
   "source": [
    "9. What is the difference between the logging and print statements in Python? When\n",
    "should you use logging over print statements in a real-world application?"
   ]
  },
  {
   "cell_type": "markdown",
   "id": "04409fff-89c2-4d94-9bf3-536a16a470d5",
   "metadata": {},
   "source": [
    "ANS: In Python, print statements are used to output messages to the console or standard output, while logging is used to record messages that describe the state of a program during its execution.\n",
    "\n",
    "Here are some reasons why you might want to use logging over print statements in a real-world application:\n",
    "\n",
    "Control over log levels: With logging, you can specify different levels of severity for log messages (e.g., DEBUG, INFO, WARNING, ERROR, CRITICAL) and control which messages are displayed based on their severity. \n",
    "\n",
    "Flexibility: With logging, you can write log messages to different destinations (e.g., files, databases, email) and customize the format of the log messages."
   ]
  },
  {
   "cell_type": "raw",
   "id": "fc0f014e-ab9a-4a44-9b5a-05de3c829cda",
   "metadata": {},
   "source": [
    "10. Write a Python program that logs a message to a file named \"app.log\" with the\n",
    "following requirements:\n",
    "● The log message should be \"Hello, World!\"\n",
    "● The log level should be set to \"INFO.\"\n",
    "● The log file should append new log entries without overwriting previous ones."
   ]
  },
  {
   "cell_type": "code",
   "execution_count": 25,
   "id": "16de4d8f-eff0-412f-b685-e244d29e0256",
   "metadata": {},
   "outputs": [
    {
     "name": "stderr",
     "output_type": "stream",
     "text": [
      "2023-08-27 15:31:31,092 - INFO - 3681625774.py:7 - Hello, World!\n"
     ]
    }
   ],
   "source": [
    "import logging\n",
    "\n",
    "# Configure the logger\n",
    "logging.basicConfig(filename='app.log', level=logging.INFO)\n",
    "\n",
    "# Log the message\n",
    "logging.info('Hello, World!')"
   ]
  },
  {
   "cell_type": "code",
   "execution_count": null,
   "id": "975ab6b0-2e93-49b9-8e08-0b6de75f7b8a",
   "metadata": {},
   "outputs": [],
   "source": [
    "11. Create a Python program that logs an error message to the console and a file named\n",
    "\"errors.log\" if an exception occurs during the program's execution. The error\n",
    "message should include the exception type and a timestamp."
   ]
  },
  {
   "cell_type": "code",
   "execution_count": 32,
   "id": "651a08fa-4315-4a40-a0d3-e8690bb922e2",
   "metadata": {},
   "outputs": [
    {
     "name": "stderr",
     "output_type": "stream",
     "text": [
      "2023-08-27 15:38:11,163 - ERROR - 226308251.py:10 - ZeroDivisionError occurred at 2023-08-27 15:38:11.163024\n"
     ]
    }
   ],
   "source": [
    "import logging\n",
    "import datetime\n",
    "# Configure the logger\n",
    "logging.basicConfig(filename='errors.log', level=logging.ERROR)\n",
    "\n",
    "try:\n",
    "    print(10/0)\n",
    "except Exception as e:\n",
    "    \n",
    "    logging.error(f'{type(e).__name__} occurred at {datetime.datetime.now()}')"
   ]
  }
 ],
 "metadata": {
  "kernelspec": {
   "display_name": "Python 3 (ipykernel)",
   "language": "python",
   "name": "python3"
  },
  "language_info": {
   "codemirror_mode": {
    "name": "ipython",
    "version": 3
   },
   "file_extension": ".py",
   "mimetype": "text/x-python",
   "name": "python",
   "nbconvert_exporter": "python",
   "pygments_lexer": "ipython3",
   "version": "3.10.6"
  }
 },
 "nbformat": 4,
 "nbformat_minor": 5
}
