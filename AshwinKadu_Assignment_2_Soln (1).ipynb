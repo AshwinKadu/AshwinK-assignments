{
 "cells": [
  {
   "cell_type": "markdown",
   "id": "ead82b9e-9b8b-40e6-98b6-e3923962f7b2",
   "metadata": {},
   "source": [
    "1. What are the two values of the Boolean data type? How do you write them?"
   ]
  },
  {
   "cell_type": "raw",
   "id": "12e44a0f-86a5-4033-affd-f4ae60c06d74",
   "metadata": {},
   "source": [
    "ANS: - Boolean data type has True and False values, it can use with the function bool()\t"
   ]
  },
  {
   "cell_type": "markdown",
   "id": "0790e011-1ec7-4f64-83d8-e1f0cf4b5963",
   "metadata": {},
   "source": [
    "2. What are the three different types of Boolean operators?\n",
    "\n"
   ]
  },
  {
   "cell_type": "markdown",
   "id": "09c7fe78-a2ae-48b7-8c90-584223daaed5",
   "metadata": {
    "tags": []
   },
   "source": [
    "ANS: - \tComparison Operator ‘==’, ‘! =’, ‘<’,’ >’, ‘<=’, ‘>=’\n",
    "\tLogical Operator ‘and’, ‘or’,’ not’\n",
    "\tBitwise or Binary Operator ‘Bitwise AND’: ‘&’, ‘Bitwise OR’:’|’,’ Bitwise NOT’:’~’,’ Bitwise XOR’:’^’"
   ]
  },
  {
   "cell_type": "markdown",
   "id": "ef8ec383-30df-4a7e-8643-865b5dc591ad",
   "metadata": {},
   "source": [
    "3. Make a list of each Boolean operator's truth tables (i.e., every possible combination of Boolean values for the operator and what it evaluates).\n"
   ]
  },
  {
   "cell_type": "markdown",
   "id": "37f8809a-f845-4aa4-9fd4-5a5bb2170949",
   "metadata": {},
   "source": [
    "ANS: -\n",
    "a\t     b\t  AND  OR  XOR\n",
    "True\tTrue\t1\t1\t0\n",
    "True\tFalse\t0\t1\t1\n",
    "False\tTrue\t1\t1\t1\n",
    "False\tFalse\t0\t0\t0\n"
   ]
  },
  {
   "cell_type": "markdown",
   "id": "bdbff67d-ce98-472f-9fb8-69577a17100e",
   "metadata": {},
   "source": [
    "4. What are the values of the following expressions?"
   ]
  },
  {
   "cell_type": "code",
   "execution_count": 8,
   "id": "4267c1cf-1ee6-4d8d-bcc9-3665453020ab",
   "metadata": {},
   "outputs": [
    {
     "data": {
      "text/plain": [
       "False"
      ]
     },
     "execution_count": 8,
     "metadata": {},
     "output_type": "execute_result"
    }
   ],
   "source": [
    "(5 > 4) and (3 == 5) "
   ]
  },
  {
   "cell_type": "code",
   "execution_count": 9,
   "id": "8a63bae7-315d-40fd-9e71-a55f0b142c7f",
   "metadata": {},
   "outputs": [
    {
     "data": {
      "text/plain": [
       "False"
      ]
     },
     "execution_count": 9,
     "metadata": {},
     "output_type": "execute_result"
    }
   ],
   "source": [
    "not (5 > 4) "
   ]
  },
  {
   "cell_type": "code",
   "execution_count": 10,
   "id": "d1374afa-18c7-47b4-aa04-63581149d48e",
   "metadata": {},
   "outputs": [
    {
     "data": {
      "text/plain": [
       "True"
      ]
     },
     "execution_count": 10,
     "metadata": {},
     "output_type": "execute_result"
    }
   ],
   "source": [
    "(5 > 4) or (3 == 5) "
   ]
  },
  {
   "cell_type": "code",
   "execution_count": 11,
   "id": "8f35b143-f2b5-4c42-8e73-4cfb1793acc6",
   "metadata": {},
   "outputs": [
    {
     "data": {
      "text/plain": [
       "False"
      ]
     },
     "execution_count": 11,
     "metadata": {},
     "output_type": "execute_result"
    }
   ],
   "source": [
    "not ((5 > 4) or (3 == 5)) "
   ]
  },
  {
   "cell_type": "code",
   "execution_count": 13,
   "id": "4822b452-8694-4266-9ee8-dc26e66330b9",
   "metadata": {},
   "outputs": [
    {
     "data": {
      "text/plain": [
       "False"
      ]
     },
     "execution_count": 13,
     "metadata": {},
     "output_type": "execute_result"
    }
   ],
   "source": [
    "(True and True) and (True == False) "
   ]
  },
  {
   "cell_type": "code",
   "execution_count": 14,
   "id": "bb5d2c2f-d1f6-4af2-aea0-dd2de586fae6",
   "metadata": {},
   "outputs": [
    {
     "data": {
      "text/plain": [
       "True"
      ]
     },
     "execution_count": 14,
     "metadata": {},
     "output_type": "execute_result"
    }
   ],
   "source": [
    "(not False) or (not True) "
   ]
  },
  {
   "cell_type": "markdown",
   "id": "5cf05ecd-af8f-43cf-b4eb-0877ac5df0c0",
   "metadata": {},
   "source": [
    "5. What are the six comparison operators?"
   ]
  },
  {
   "cell_type": "markdown",
   "id": "3a8c536d-aadc-4cf6-b51f-156e8a5d8194",
   "metadata": {
    "tags": []
   },
   "source": [
    "1.less than ‘a<b’,\n",
    "2greater than ’b>a’,\n",
    "3.less than or equal to ’a<=b’,\n",
    "4.greater than or equal to ‘b>=a’,\n",
    "5.equal to ‘a==b’,\n",
    "6.not equal to ‘a! =b’"
   ]
  },
  {
   "cell_type": "markdown",
   "id": "b0d72f52-5eb4-482d-9b05-ffb189dd961a",
   "metadata": {
    "tags": []
   },
   "source": [
    "6. How do you tell the difference between the equal to and assignment operators? Describe a condition and when you would use one."
   ]
  },
  {
   "cell_type": "markdown",
   "id": "2a3cb8cc-01b9-4035-91c8-8af58763310c",
   "metadata": {
    "tags": []
   },
   "source": [
    "#EQUAL TO \n",
    "Equal to operator is \"==\" and it used when we have to show that that the value of a certain objet is absolutely eqaul to given value. It gives result in True or False."
   ]
  },
  {
   "cell_type": "code",
   "execution_count": 4,
   "id": "7532ea41-65f7-4b9d-b60b-0830c5665f2f",
   "metadata": {},
   "outputs": [
    {
     "data": {
      "text/plain": [
       "True"
      ]
     },
     "execution_count": 4,
     "metadata": {},
     "output_type": "execute_result"
    }
   ],
   "source": [
    "5==5"
   ]
  },
  {
   "cell_type": "code",
   "execution_count": 5,
   "id": "79c42420-e72d-4cd8-b043-b0b80d336aa8",
   "metadata": {},
   "outputs": [
    {
     "data": {
      "text/plain": [
       "False"
      ]
     },
     "execution_count": 5,
     "metadata": {},
     "output_type": "execute_result"
    }
   ],
   "source": [
    "5==6"
   ]
  },
  {
   "cell_type": "markdown",
   "id": "a3e807e0-05b1-4c59-a928-eabd8416201a",
   "metadata": {},
   "source": [
    "#ASSIGNMENT OPERATORS\n",
    " ( = ), ( += ), ( -= ), ( *= ), ( /= ), ( %= ), ( //= )\n",
    " \n",
    " Assignment operators asiign a certin value to variable e,g. a=5 and this values will be stored for further references."
   ]
  },
  {
   "cell_type": "code",
   "execution_count": 13,
   "id": "353d68df-1543-4256-ad28-7fdd9cfe5cb8",
   "metadata": {},
   "outputs": [
    {
     "name": "stdout",
     "output_type": "stream",
     "text": [
      "10\n"
     ]
    }
   ],
   "source": [
    "#Example\n",
    "a=5\n",
    "#using add and equal to operator\n",
    "a+=5\n",
    "print(a)"
   ]
  },
  {
   "cell_type": "markdown",
   "id": "b78c27f3-abd4-49e5-862f-18dff43ef63f",
   "metadata": {},
   "source": [
    "7. Identify the three blocks in this code:"
   ]
  },
  {
   "cell_type": "code",
   "execution_count": 14,
   "id": "6e31b422-9743-4ab2-8d53-22855bcd946c",
   "metadata": {
    "tags": []
   },
   "outputs": [
    {
     "name": "stdout",
     "output_type": "stream",
     "text": [
      "ham\n",
      "spam\n",
      "spam\n"
     ]
    }
   ],
   "source": [
    "spam = 0\n",
    "if spam == 10:\n",
    "    print('eggs') #Block 1\n",
    "if spam > 5:\n",
    "    print('bacon') #Block 2\n",
    "else:\n",
    "    print('ham')\n",
    "    print('spam')\n",
    "    print('spam')#Block 3"
   ]
  },
  {
   "cell_type": "markdown",
   "id": "b1980b02-940b-49d6-b132-b9c63108033d",
   "metadata": {},
   "source": [
    "8. Write code that prints Hello if 1 is stored in spam, prints Howdy if 2 is stored in spam, and prints Greetings! if anything else is stored in spam."
   ]
  },
  {
   "cell_type": "code",
   "execution_count": 19,
   "id": "a0a5de54-181f-4d9e-b916-ca12ddfc9bbe",
   "metadata": {},
   "outputs": [
    {
     "name": "stdin",
     "output_type": "stream",
     "text": [
      "input a numeric value 2\n"
     ]
    },
    {
     "name": "stdout",
     "output_type": "stream",
     "text": [
      "Howdy\n"
     ]
    }
   ],
   "source": [
    "spam = int(input(\"input a numeric value\"))\n",
    "if spam == 1:\n",
    "    print(\"Hello\")\n",
    "elif spam ==2 :\n",
    "    print(\"Howdy\")\n",
    "else:\n",
    "    print(\"Greetings\")\n"
   ]
  },
  {
   "cell_type": "markdown",
   "id": "09150b78-f1aa-4dfd-b59a-81adff80a494",
   "metadata": {},
   "source": [
    "9.If your programme is stuck in an endless loop, what keys you’ll press?"
   ]
  },
  {
   "cell_type": "markdown",
   "id": "9550d6fa-a26c-4066-b2b3-3502e0348777",
   "metadata": {},
   "source": [
    "Ans:- If a program is stuck in endless loop press ctrl + c keys."
   ]
  },
  {
   "cell_type": "markdown",
   "id": "9b498163-a0f3-44c0-9d3a-56bad2fa94b8",
   "metadata": {},
   "source": [
    "10. How can you tell the difference between break and continue?"
   ]
  },
  {
   "cell_type": "code",
   "execution_count": 27,
   "id": "30cf25b9-344c-474a-b1d1-84adb6f47227",
   "metadata": {},
   "outputs": [
    {
     "name": "stdout",
     "output_type": "stream",
     "text": [
      "0\n",
      "1\n",
      "2\n",
      "3\n",
      "4\n",
      "5\n",
      "6\n",
      "Breaked\n",
      "0\n",
      "1\n",
      "2\n",
      "3\n",
      "4\n",
      "5\n",
      "6\n",
      "8\n",
      "9\n"
     ]
    }
   ],
   "source": [
    "# use of break: the break is imposed at 7 so 1st code show the break\n",
    "for i in range(10):\n",
    "    if(i==7):\n",
    "        break\n",
    "    print(i)\n",
    "    \n",
    "print('Breaked')\n",
    "#use of continue: after break at 7 the continue statement will bring start the loop exucution again from start\n",
    "for i in range(10):\n",
    "    if(i==7):\n",
    "        continue \n",
    "    print(i)"
   ]
  },
  {
   "cell_type": "markdown",
   "id": "3351dad4-fd8c-42e3-8df6-f51a550965f7",
   "metadata": {},
   "source": [
    "11. In a for loop, what is the difference between range(10), range(0, 10), and range(0, 10, 1)?"
   ]
  },
  {
   "cell_type": "markdown",
   "id": "02bd160a-4982-44ba-a046-2d69259ed7bc",
   "metadata": {},
   "source": [
    "In for loop range(10) the loop will start from 0 till 10\n",
    "\n",
    "In for loop range(0,10) the loop will start from 0 till 10, here the specific range is giventhat is everything from 0 to 10\n",
    "\n",
    "In for loop range(0,10,1) the loop will start from 0 till 10, here the the key change is that there is step of 1 is given. This means that next number will increase by 1 "
   ]
  },
  {
   "cell_type": "code",
   "execution_count": 4,
   "id": "6d23be50-9f24-46db-a342-91304edcb588",
   "metadata": {},
   "outputs": [
    {
     "name": "stdout",
     "output_type": "stream",
     "text": [
      "0\n",
      "1\n",
      "2\n",
      "3\n",
      "4\n",
      "5\n",
      "6\n",
      "7\n",
      "8\n",
      "9\n"
     ]
    }
   ],
   "source": [
    "for i in range(10):\n",
    "    print(i)"
   ]
  },
  {
   "cell_type": "code",
   "execution_count": 5,
   "id": "327eeed3-cb45-419b-ada9-1251ce8e5e29",
   "metadata": {},
   "outputs": [
    {
     "name": "stdout",
     "output_type": "stream",
     "text": [
      "0\n",
      "1\n",
      "2\n",
      "3\n",
      "4\n",
      "5\n",
      "6\n",
      "7\n",
      "8\n",
      "9\n"
     ]
    }
   ],
   "source": [
    "for i in range(0, 10):\n",
    "    print(i)"
   ]
  },
  {
   "cell_type": "code",
   "execution_count": 7,
   "id": "32f9b593-bc83-4637-adef-4f7cbc7e132e",
   "metadata": {},
   "outputs": [
    {
     "name": "stdout",
     "output_type": "stream",
     "text": [
      "0\n",
      "2\n",
      "4\n",
      "6\n",
      "8\n"
     ]
    }
   ],
   "source": [
    "for i in range(0, 10, 2): # here step is given by 2 to see how the step works\n",
    "    print(i)"
   ]
  },
  {
   "cell_type": "markdown",
   "id": "4d248ac7-1923-4893-a4b5-a61a6e3c4829",
   "metadata": {},
   "source": [
    "12. Write a short program that prints the numbers 1 to 10 using a for loop. Then write an equivalent\n",
    "program that prints the numbers 1 to 10 using a while loop."
   ]
  },
  {
   "cell_type": "code",
   "execution_count": 9,
   "id": "b7558fbb-ae32-495e-845f-21a0eadc0140",
   "metadata": {},
   "outputs": [
    {
     "name": "stdout",
     "output_type": "stream",
     "text": [
      "1\n",
      "2\n",
      "3\n",
      "4\n",
      "5\n",
      "6\n",
      "7\n",
      "8\n",
      "9\n",
      "10\n"
     ]
    }
   ],
   "source": [
    "# for loop\n",
    "for i in range(1, 11):\n",
    "    print(i)"
   ]
  },
  {
   "cell_type": "code",
   "execution_count": 12,
   "id": "b4131148-f7c4-41d7-a92e-1d989b0b5b88",
   "metadata": {},
   "outputs": [
    {
     "name": "stdout",
     "output_type": "stream",
     "text": [
      "1\n",
      "2\n",
      "3\n",
      "4\n",
      "5\n",
      "6\n",
      "7\n",
      "8\n",
      "9\n",
      "10\n"
     ]
    }
   ],
   "source": [
    "count = 1\n",
    "while count <= 10: \n",
    "    print(count)  \n",
    "    count += 1"
   ]
  },
  {
   "cell_type": "markdown",
   "id": "11d7bb23-fa1b-4742-9932-ee9b3b77bf44",
   "metadata": {},
   "source": [
    "13. If you had a function named bacon() inside a module named spam, how would you call it after\n",
    "importing spam?"
   ]
  },
  {
   "cell_type": "code",
   "execution_count": null,
   "id": "137b9efe-ce10-42e7-a50f-a6268bcf6522",
   "metadata": {},
   "outputs": [],
   "source": [
    "import spam\n",
    "spam.bacon()"
   ]
  },
  {
   "cell_type": "code",
   "execution_count": null,
   "id": "f87c6a90-c5c7-43c3-8c16-9c814595497f",
   "metadata": {},
   "outputs": [],
   "source": []
  }
 ],
 "metadata": {
  "kernelspec": {
   "display_name": "Python 3 (ipykernel)",
   "language": "python",
   "name": "python3"
  },
  "language_info": {
   "codemirror_mode": {
    "name": "ipython",
    "version": 3
   },
   "file_extension": ".py",
   "mimetype": "text/x-python",
   "name": "python",
   "nbconvert_exporter": "python",
   "pygments_lexer": "ipython3",
   "version": "3.10.6"
  }
 },
 "nbformat": 4,
 "nbformat_minor": 5
}
