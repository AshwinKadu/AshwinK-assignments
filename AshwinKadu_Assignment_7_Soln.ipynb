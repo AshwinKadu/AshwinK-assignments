{
 "cells": [
  {
   "cell_type": "markdown",
   "id": "133fa870-d307-46a9-9903-8215871eb78b",
   "metadata": {},
   "source": [
    "Q.1. Create two int type variables, apply addition, subtraction, division and multiplications\n",
    "and store the results in variables. Then print the data in the following format by calling the\n",
    "variables:\n",
    "First variable is __ & second variable is __.\n",
    "Addition: __ + __ = __\n",
    "Subtraction: __ - __ = __\n",
    "Multiplication: __ * __ = __\n",
    "Division: __ / __ = __"
   ]
  },
  {
   "cell_type": "code",
   "execution_count": 7,
   "id": "f67fc9bc-aced-44ff-952a-008b8bf5b8ba",
   "metadata": {},
   "outputs": [
    {
     "name": "stdin",
     "output_type": "stream",
     "text": [
      "First variable is:  6\n",
      "Second variable is:  0\n"
     ]
    },
    {
     "name": "stdout",
     "output_type": "stream",
     "text": [
      "Addition: 6 + 0 = 6\n",
      "Subtraction: 6 - 0 = 6\n",
      "Multiplication: 6 * 0 = 0\n",
      "Division: 6 / 0 = num2 cannot be 0\n"
     ]
    }
   ],
   "source": [
    "num1 = int(input(\"First variable is: \"))\n",
    "num2 = int(input(\"Second variable is: \"))\n",
    "\n",
    "Additon = num1 + num2\n",
    "Subtraction = num1 - num2\n",
    "Multiplication = num1 * num2\n",
    "#for division\n",
    "if num2 != 0:\n",
    "    Division = num1 / num2\n",
    "else:\n",
    "     Division = \"num2 cannot be 0\"\n",
    "    \n",
    "print(f\"Addition: {num1} + {num2} = {Additon}\")\n",
    "print(f\"Subtraction: {num1} - {num2} = {Subtraction}\")\n",
    "print(f\"Multiplication: {num1} * {num2} = {Multiplication}\")\n",
    "print(f\"Division: {num1} / {num2} = {Division}\")"
   ]
  },
  {
   "cell_type": "code",
   "execution_count": null,
   "id": "7e2b9310-f6bf-4fc5-9899-3bd2c3bc9291",
   "metadata": {},
   "outputs": [],
   "source": []
  },
  {
   "cell_type": "markdown",
   "id": "24387814-2662-482c-8412-1dafb40705d9",
   "metadata": {},
   "source": [
    "Q.2. What is the difference between the following operators:\n",
    "(i) ‘/’ & ‘//’\n",
    "(ii) ‘**’ & ‘^’"
   ]
  },
  {
   "cell_type": "code",
   "execution_count": 10,
   "id": "abcdd895-2423-4ec1-9d6b-b04647602d26",
   "metadata": {},
   "outputs": [
    {
     "name": "stdin",
     "output_type": "stream",
     "text": [
      " 5\n",
      " 3\n"
     ]
    },
    {
     "name": "stdout",
     "output_type": "stream",
     "text": [
      "1.6666666666666667\n",
      "1\n",
      "125\n",
      "6\n"
     ]
    }
   ],
   "source": [
    "num1 = int(input())\n",
    "num2 = int(input())\n",
    "\n",
    "a = num1 / num2 # '/' operator performs simple division\n",
    "print(a)\n",
    "\n",
    "b = num1 // num2 # This is floor division operator that gives the rounded anser of division to closest number \n",
    "print(b)\n",
    "\n",
    "c = num1 ** num2 # '**' operator is the exponetial operator that treats the num2 as power of num1\n",
    "print(c)\n",
    "\n",
    "d = num1 ^ num2 # This is Bitwise XOR operator \n",
    "print(d)\n",
    "\n"
   ]
  },
  {
   "cell_type": "code",
   "execution_count": null,
   "id": "0c691fea-5d7d-4a5a-b165-8695d8ac9d96",
   "metadata": {},
   "outputs": [],
   "source": []
  },
  {
   "cell_type": "markdown",
   "id": "5cb951c0-989a-4e54-a0e8-d6c12c36ac6f",
   "metadata": {},
   "source": [
    "Q.3. List the logical operators."
   ]
  },
  {
   "cell_type": "markdown",
   "id": "4a3e845d-05e7-4946-91ed-1a0374299893",
   "metadata": {},
   "source": [
    "ANS: and , or, not are the logical operators"
   ]
  },
  {
   "cell_type": "markdown",
   "id": "8625dde4-4126-4dfe-98e7-6f1e7dc6879f",
   "metadata": {},
   "source": [
    "Q.4. Explain right shift operator and left shift operator with examples."
   ]
  },
  {
   "cell_type": "markdown",
   "id": "6a4d72ed-25a9-421b-a66a-36a9d4c38db2",
   "metadata": {},
   "source": [
    "ANS: The bitwise shift operators are the RIGHT-SHIFT OPERATOR ( >> ), which moves the bits of an integer or enumeration type expression to the right, and the LEFT-SHIFT SHIFT ( << ), which moves the bits to the left."
   ]
  },
  {
   "cell_type": "code",
   "execution_count": 14,
   "id": "8df2d2af-c5a4-468d-8d99-c6354d0310c7",
   "metadata": {},
   "outputs": [
    {
     "name": "stdout",
     "output_type": "stream",
     "text": [
      "72\n",
      "1\n"
     ]
    }
   ],
   "source": [
    "#Left shift operator\n",
    "print(9 << 3)\n",
    "\n",
    "\n",
    "#Right shift operator\n",
    "print(9 >> 3)"
   ]
  },
  {
   "cell_type": "markdown",
   "id": "743999ee-40ac-4ecb-b9ac-d604a94c5766",
   "metadata": {},
   "source": [
    "Q.5. Create a list containing int type data of length 15. Then write a code to check if 10 is\n",
    "present in the list or not."
   ]
  },
  {
   "cell_type": "code",
   "execution_count": 20,
   "id": "c29dd1f1-6ca9-48bb-991d-91e4373c1044",
   "metadata": {},
   "outputs": [
    {
     "name": "stdout",
     "output_type": "stream",
     "text": [
      "True\n"
     ]
    }
   ],
   "source": [
    "numbers = [1,2,3,4,5,6,7,8,9,10,11,12,13,14,15]\n",
    "#checking if element 7 is present in the given list or not\n",
    "i = 10\n",
    "# if element present then it will print True otherwise False\n",
    "if i in numbers:\n",
    "    print(True)\n",
    "else:\n",
    "    print(False)"
   ]
  },
  {
   "cell_type": "code",
   "execution_count": null,
   "id": "3ce62d45-53a9-4d02-ab5d-7f6291fe460d",
   "metadata": {},
   "outputs": [],
   "source": []
  },
  {
   "cell_type": "code",
   "execution_count": null,
   "id": "b4b642d1-6fe9-48bd-b161-f1c795f3ea7b",
   "metadata": {},
   "outputs": [],
   "source": []
  }
 ],
 "metadata": {
  "kernelspec": {
   "display_name": "Python 3 (ipykernel)",
   "language": "python",
   "name": "python3"
  },
  "language_info": {
   "codemirror_mode": {
    "name": "ipython",
    "version": 3
   },
   "file_extension": ".py",
   "mimetype": "text/x-python",
   "name": "python",
   "nbconvert_exporter": "python",
   "pygments_lexer": "ipython3",
   "version": "3.10.6"
  }
 },
 "nbformat": 4,
 "nbformat_minor": 5
}
