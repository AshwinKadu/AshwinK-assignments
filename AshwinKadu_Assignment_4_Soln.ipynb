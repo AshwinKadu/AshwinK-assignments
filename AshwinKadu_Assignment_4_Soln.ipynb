{
 "cells": [
  {
   "cell_type": "markdown",
   "id": "1e4052e1-7d25-42e2-9cac-812c7f5a2c31",
   "metadata": {},
   "source": [
    "1. What exactly is []?"
   ]
  },
  {
   "cell_type": "markdown",
   "id": "e3312fa4-a802-4aa1-9258-51139925ffb4",
   "metadata": {},
   "source": [
    "ANS: The empty list value, which is a list value that contains no items.\n",
    "    This is similar to '' which represents an empty string"
   ]
  },
  {
   "cell_type": "markdown",
   "id": "26aaa49c-f525-4564-9101-4da29d9a84f9",
   "metadata": {},
   "source": [
    "2. In a list of values stored in a variable called spam, how would you assign the value &#39;hello&#39; as the\n",
    "third value? (Assume [2, 4, 6, 8, 10] are in spam.)"
   ]
  },
  {
   "cell_type": "code",
   "execution_count": 3,
   "id": "e252d8c7-5baf-4c6e-8375-16b6cbe1e961",
   "metadata": {},
   "outputs": [
    {
     "name": "stdout",
     "output_type": "stream",
     "text": [
      "[2, 4, 6, 8, 10]\n",
      "[2, 4, 'hello', 8, 10]\n"
     ]
    }
   ],
   "source": [
    "# Example\n",
    "spam=[2,4,6,8,10]\n",
    "print(spam)\n",
    "spam[2]='hello' #List uses zero based indexing\n",
    "print(spam)"
   ]
  },
  {
   "cell_type": "markdown",
   "id": "4aafad69-561a-4cc3-a40d-518cf6b25b9c",
   "metadata": {},
   "source": [
    "Let&#39;s pretend the spam includes the list [&#39;a&#39;, &#39;b&#39;, &#39;c&#39;, &#39;d&#39;] for the next three queries."
   ]
  },
  {
   "cell_type": "markdown",
   "id": "d7a86121-c14f-4086-a566-085f255bc2bd",
   "metadata": {},
   "source": [
    "3. What is the value of spam[int(int(&#39;3&#39; * 2) / 11)]?"
   ]
  },
  {
   "cell_type": "code",
   "execution_count": 4,
   "id": "adf725e3-b9d8-4a54-9512-893ba372523b",
   "metadata": {},
   "outputs": [
    {
     "data": {
      "text/plain": [
       "'d'"
      ]
     },
     "execution_count": 4,
     "metadata": {},
     "output_type": "execute_result"
    }
   ],
   "source": [
    "spam = [\"a\", \"b\", \"c\", \"d\"]\n",
    "spam[int(int(\"3\"*2)/11)]"
   ]
  },
  {
   "cell_type": "markdown",
   "id": "10a2d5a8-a510-4158-8b9d-4d8a8d18a5cd",
   "metadata": {},
   "source": [
    "4. What is the value of spam[-1]?"
   ]
  },
  {
   "cell_type": "code",
   "execution_count": 14,
   "id": "c6681c9d-093a-4b69-ad12-4f109841e4aa",
   "metadata": {},
   "outputs": [
    {
     "name": "stdout",
     "output_type": "stream",
     "text": [
      "spam[-1] => d\n"
     ]
    }
   ],
   "source": [
    "spam = [\"a\", \"b\", \"c\", \"d\"]\n",
    "print (\"spam[-1] =>\",spam[-1])"
   ]
  },
  {
   "cell_type": "markdown",
   "id": "6edbc503-bfcd-4ea3-a88f-610f33375a40",
   "metadata": {},
   "source": [
    "5. What is the value of spam[:2]?"
   ]
  },
  {
   "cell_type": "code",
   "execution_count": 13,
   "id": "180c8404-2466-4978-adee-7126ef8745cc",
   "metadata": {},
   "outputs": [
    {
     "name": "stdout",
     "output_type": "stream",
     "text": [
      "spam[:2] => ['a', 'b']\n"
     ]
    }
   ],
   "source": [
    "spam = [\"a\", \"b\", \"c\", \"d\"]\n",
    "print (\"spam[:2] =>\",spam[:2])"
   ]
  },
  {
   "cell_type": "markdown",
   "id": "a539b629-a576-4937-9ed4-e174d4ba5d59",
   "metadata": {},
   "source": [
    "Let&#39;s pretend bacon has the list [3.14, 'cat', 11, 'cat', True] for the next three questions."
   ]
  },
  {
   "cell_type": "markdown",
   "id": "ce247e9d-4b73-4987-b4b6-2e2667b43062",
   "metadata": {},
   "source": [
    "6. What is the value of bacon.index(&#39;cat&#39;)?"
   ]
  },
  {
   "cell_type": "markdown",
   "id": "26e7ab69-1e37-4233-bcb5-7f7c6a1fd691",
   "metadata": {},
   "source": [
    "ANS: It shows the index of 'cat' in the list."
   ]
  },
  {
   "cell_type": "code",
   "execution_count": 17,
   "id": "cb6c7962-5ca6-478b-835a-e7ea4b126e1f",
   "metadata": {},
   "outputs": [
    {
     "data": {
      "text/plain": [
       "1"
      ]
     },
     "execution_count": 17,
     "metadata": {},
     "output_type": "execute_result"
    }
   ],
   "source": [
    "bacon = [3.14, 'cat', 11, 'cat', True]\n",
    "bacon.index('cat')\n"
   ]
  },
  {
   "cell_type": "markdown",
   "id": "60bbc760-9309-4089-bb73-96eaac68c1dc",
   "metadata": {},
   "source": [
    "7. How does bacon.append(99) change the look of the list value in bacon?"
   ]
  },
  {
   "cell_type": "markdown",
   "id": "13890e37-7e70-42da-920f-9c9d0ac5d575",
   "metadata": {},
   "source": [
    "ANS: .append adds the new elememts to the list in the end."
   ]
  },
  {
   "cell_type": "code",
   "execution_count": 23,
   "id": "916e9a93-5ab2-43d5-8817-988d63c35c7d",
   "metadata": {},
   "outputs": [
    {
     "name": "stdout",
     "output_type": "stream",
     "text": [
      "[3.14, 'cat', 11, 'cat', True]\n",
      "[3.14, 'cat', 11, 'cat', True, 99]\n"
     ]
    }
   ],
   "source": [
    "bacon = [3.14, 'cat', 11, 'cat', True]\n",
    "print(bacon)\n",
    "\n",
    "bacon.append(99)\n",
    "print(bacon)"
   ]
  },
  {
   "cell_type": "markdown",
   "id": "1fa9ab46-e921-4601-939a-b87a7ef30033",
   "metadata": {},
   "source": [
    "8. How does bacon.remove(&#39;cat&#39;) change the look of the list in bacon?"
   ]
  },
  {
   "cell_type": "markdown",
   "id": "a036e4cd-4b91-403e-9bf3-8439ec6c02e1",
   "metadata": {},
   "source": [
    "ANS: .remove removes the 'cat' from the list."
   ]
  },
  {
   "cell_type": "code",
   "execution_count": 24,
   "id": "dd439684-ea82-4acc-8538-5cf1e1a4741f",
   "metadata": {},
   "outputs": [
    {
     "name": "stdout",
     "output_type": "stream",
     "text": [
      "[3.14, 'cat', 11, 'cat', True]\n",
      "[3.14, 11, 'cat', True]\n"
     ]
    }
   ],
   "source": [
    "bacon = [3.14, 'cat', 11, 'cat', True]\n",
    "print(bacon)\n",
    "\n",
    "bacon.remove('cat')\n",
    "print(bacon)"
   ]
  },
  {
   "cell_type": "markdown",
   "id": "87cce7a5-7f3f-4fd5-9928-8c1b4ca14ff3",
   "metadata": {},
   "source": [
    "9. What are the list concatenation and list replication operators?"
   ]
  },
  {
   "cell_type": "markdown",
   "id": "df1b9565-d13b-4b2b-9779-a6cde287af21",
   "metadata": {},
   "source": [
    "ANS:  The operator for list concatenation is '+',\n",
    "while the operator for replication is '*'"
   ]
  },
  {
   "cell_type": "code",
   "execution_count": 26,
   "id": "43e9e8b8-5ff8-4749-821d-9296aedee2e6",
   "metadata": {},
   "outputs": [
    {
     "name": "stdout",
     "output_type": "stream",
     "text": [
      "['a', 'b', 'c', 'd', 'A', 'B', 'C', 'D']\n",
      "['A', 'B', 'C', 'D', 'A', 'B', 'C', 'D']\n",
      "['a', 'b', 'c', 'd', 'a', 'b', 'c', 'd']\n"
     ]
    }
   ],
   "source": [
    "list1 = [\"a\", \"b\", \"c\", \"d\"]\n",
    "list2 = [\"A\", \"B\", \"C\", \"D\"]\n",
    "\n",
    "#list concantation\n",
    "print(list1 + list2)\n",
    "\n",
    "#list replication\n",
    "print(list2*2)\n",
    "    #OR\n",
    "print(list1*2)"
   ]
  },
  {
   "cell_type": "markdown",
   "id": "32b746d8-0dda-4470-b8f5-cc20aabe20f9",
   "metadata": {},
   "source": [
    "10. What is difference between the list methods append() and insert()?"
   ]
  },
  {
   "cell_type": "markdown",
   "id": "18f199a3-cecd-4c1b-92b0-d6f47476ac1b",
   "metadata": {},
   "source": [
    "ANS: append() adds values at the end of the list, whereas insert() can add element anywhere in the list"
   ]
  },
  {
   "cell_type": "code",
   "execution_count": 27,
   "id": "db790f8b-e588-4d6b-aaee-3a2ef857cbbd",
   "metadata": {},
   "outputs": [
    {
     "name": "stdout",
     "output_type": "stream",
     "text": [
      "[3.14, 'cat', 11, 'cat', True]\n",
      "[3.14, 'cat', 11, 'cat', True, 99]\n"
     ]
    }
   ],
   "source": [
    "#append()\n",
    "New_list = [3.14, 'cat', 11, 'cat', True]\n",
    "print(New_list)\n",
    "\n",
    "New_list.append(99)\n",
    "print(New_list)"
   ]
  },
  {
   "cell_type": "code",
   "execution_count": 29,
   "id": "09f39bde-3683-471e-b158-b7966850ada0",
   "metadata": {},
   "outputs": [
    {
     "name": "stdout",
     "output_type": "stream",
     "text": [
      "[3.14, 'cat', 11, 'cat', True]\n",
      "[3.14, 'Math', 'cat', 11, 'cat', True]\n"
     ]
    }
   ],
   "source": [
    "#insert()\n",
    "New_list = [3.14, 'cat', 11, 'cat', True]\n",
    "print(New_list)\n",
    "\n",
    "New_list.insert(1,'Math')\n",
    "print(New_list)"
   ]
  },
  {
   "cell_type": "markdown",
   "id": "8ed0cb20-6ec6-47bd-8cd0-711306129ca8",
   "metadata": {},
   "source": [
    "11. What are the two methods for removing items from a list?"
   ]
  },
  {
   "cell_type": "markdown",
   "id": "40c13031-8a65-44f2-a921-379b1f2d3e8c",
   "metadata": {},
   "source": [
    "ANS: 1)The del operator \n",
    "     2)the remove() method\n",
    "     3) The pop() method removes an element from the list based on the index given\n",
    "     4)The clear() method will remove all the elements present in the list."
   ]
  },
  {
   "cell_type": "markdown",
   "id": "e8925772-c667-4f8c-b49b-f78ec210d10b",
   "metadata": {},
   "source": [
    "12. Describe how list values and string values are identical."
   ]
  },
  {
   "cell_type": "markdown",
   "id": "c42fc5c2-9811-49e9-b420-cbc2ac06fb4e",
   "metadata": {},
   "source": [
    "ANS: 1)Both strings and lists have lengths, strings havenumber of characters and list number of items\n",
    "     2)Both string and list can be sued in for loops.\n",
    "     3) Both can be concatenated or replicated, and be used with the in and not in operators."
   ]
  },
  {
   "cell_type": "markdown",
   "id": "7d90d6d5-c9f1-4add-b8c3-c32d80014eda",
   "metadata": {},
   "source": [
    "13. What&#39;s the difference between tuples and lists?"
   ]
  },
  {
   "cell_type": "markdown",
   "id": "35284ca7-7221-48bc-b65c-27758774573c",
   "metadata": {},
   "source": [
    "ANS:1)Key difference is that list ae mutable and tuples are immutable.\n",
    "    2)List uses [], whereas tuples uses().\n",
    "    3)Tuples cannot be used where continuos insertion and updation of data is performed. "
   ]
  },
  {
   "cell_type": "markdown",
   "id": "3af1c583-4f01-4421-bfac-c33309874e4d",
   "metadata": {},
   "source": [
    "14. How do you type a tuple value that only contains the integer 42?"
   ]
  },
  {
   "cell_type": "code",
   "execution_count": null,
   "id": "1e1fdbb3-9984-4a48-a33f-ecce4c4c7c60",
   "metadata": {},
   "outputs": [],
   "source": [
    "ANS:If the tuple will have on integer 42 it will not be considerd as a touple.\n",
    "    for it to be considerd as a tuple we have to add a',' as shown in following example. "
   ]
  },
  {
   "cell_type": "code",
   "execution_count": 1,
   "id": "26e2c4c8-06aa-4a26-b745-0a14e36a2ba3",
   "metadata": {},
   "outputs": [
    {
     "name": "stdout",
     "output_type": "stream",
     "text": [
      "<class 'int'>\n",
      "<class 'tuple'>\n"
     ]
    }
   ],
   "source": [
    "tup1 = (42)\n",
    "print(type(tup1))\n",
    "\n",
    "tup2 = (42,)\n",
    "print(type(tup2))"
   ]
  },
  {
   "cell_type": "markdown",
   "id": "3667f81a-1c51-44ee-ab5a-09e7612da67c",
   "metadata": {},
   "source": [
    "15. How do you get a list value&#39;s tuple form? How do you get a tuple value&#39;s list form?"
   ]
  },
  {
   "cell_type": "markdown",
   "id": "657182c8-04cf-4e23-a955-687011f28b7e",
   "metadata": {},
   "source": [
    "ANS:\n",
    "\n",
    "If you want to convert a Python list to a tuple, you can use the tuple() function to pass the full list as an argument, and it will return the tuple data type as an output.\n",
    "\n",
    "To convert a tuple into list in Python, call list() builtin function and pass the tuple as argument to the function. list() returns a new list generated from the items of the given tuple."
   ]
  },
  {
   "cell_type": "code",
   "execution_count": 2,
   "id": "0be6439f-f770-4e6a-b455-c023ef6aa846",
   "metadata": {},
   "outputs": [
    {
     "name": "stdout",
     "output_type": "stream",
     "text": [
      "<class 'list'>\n",
      "[True, 28, 'Tiger']\n"
     ]
    }
   ],
   "source": [
    "#Tuple to list\n",
    "aTuple = (True, 28, 'Tiger')\n",
    " \n",
    "aList = list(aTuple)\n",
    " \n",
    "print(type(aList))\n",
    "print(aList)"
   ]
  },
  {
   "cell_type": "code",
   "execution_count": 4,
   "id": "5a17250f-d728-40b3-ac2a-029bd38b5479",
   "metadata": {},
   "outputs": [
    {
     "name": "stdout",
     "output_type": "stream",
     "text": [
      "<class 'tuple'>\n",
      "(67, 28, 41, 37)\n"
     ]
    }
   ],
   "source": [
    "#list to tuple\n",
    "aList= [67, 28, 41, 37]\n",
    " \n",
    "aTuple  = tuple(aList)\n",
    " \n",
    "print(type(aTuple))\n",
    "print(aTuple)"
   ]
  },
  {
   "cell_type": "markdown",
   "id": "a81047d1-bb79-49ed-8266-0284ceb121d8",
   "metadata": {},
   "source": [
    "16. Variables that &quot;contain&quot; list values are not necessarily lists themselves. Instead, what do they\n",
    "contain?"
   ]
  },
  {
   "cell_type": "markdown",
   "id": "20299f07-f042-42e4-aa20-5ccc42f00725",
   "metadata": {},
   "source": [
    "ANS: They contain references to list values.\n"
   ]
  },
  {
   "cell_type": "markdown",
   "id": "bb8ccfb9-c27d-43f2-ad36-9c71e12fa45a",
   "metadata": {},
   "source": [
    "17. How do you distinguish between copy.copy() and copy.deepcopy()?"
   ]
  },
  {
   "cell_type": "markdown",
   "id": "fe8b9bba-0801-4593-b174-b64fef30c8df",
   "metadata": {},
   "source": [
    "ANS: \n",
    "copy.copy() = Shallow copy creates a copy of object(list) but references each elementof the object, any changes in copied list will also change originar list\n",
    "\n",
    "copy.deepcopy() = Deep copy creates a copy of the objects(list) and the elements of the object and share no references to each other"
   ]
  }
 ],
 "metadata": {
  "kernelspec": {
   "display_name": "Python 3 (ipykernel)",
   "language": "python",
   "name": "python3"
  },
  "language_info": {
   "codemirror_mode": {
    "name": "ipython",
    "version": 3
   },
   "file_extension": ".py",
   "mimetype": "text/x-python",
   "name": "python",
   "nbconvert_exporter": "python",
   "pygments_lexer": "ipython3",
   "version": "3.10.6"
  }
 },
 "nbformat": 4,
 "nbformat_minor": 5
}
